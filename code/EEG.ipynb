{
 "cells": [
  {
   "cell_type": "code",
   "execution_count": 1,
   "metadata": {
    "collapsed": false,
    "scrolled": true
   },
   "outputs": [
    {
     "name": "stderr",
     "output_type": "stream",
     "text": [
      "/home/centos/anaconda2/lib/python2.7/site-packages/sklearn/cross_validation.py:44: DeprecationWarning: This module was deprecated in version 0.18 in favor of the model_selection module into which all the refactored classes and functions are moved. Also note that the interface of the new CV iterators are different from that of this module. This module will be removed in 0.20.\n",
      "  \"This module will be removed in 0.20.\", DeprecationWarning)\n"
     ]
    }
   ],
   "source": [
    "import numpy as np\n",
    "import pandas as pd\n",
    "import xgboost as xgb\n",
    "from xgboost.sklearn import XGBClassifier\n",
    "from sklearn.cross_validation import train_test_split\n",
    "from sklearn.model_selection import KFold\n",
    "from sklearn.metrics import confusion_matrix\n",
    "from sklearn.decomposition import PCA\n",
    "from sklearn.decomposition import SparsePCA"
   ]
  },
  {
   "cell_type": "code",
   "execution_count": 2,
   "metadata": {
    "collapsed": false
   },
   "outputs": [
    {
     "name": "stdout",
     "output_type": "stream",
     "text": [
      "/mnt/nas/eeg/processed_data_psd_modified/\n"
     ]
    },
    {
     "data": {
      "text/plain": [
       "29"
      ]
     },
     "execution_count": 2,
     "metadata": {},
     "output_type": "execute_result"
    }
   ],
   "source": [
    "filepath=unicode('/mnt/nas/eeg/processed_data_psd_modified/','utf8')\n",
    "print filepath\n",
    "import os\n",
    "fileName = sorted(os.listdir(filepath))\n",
    "len(fileName)"
   ]
  },
  {
   "cell_type": "code",
   "execution_count": 3,
   "metadata": {
    "collapsed": false
   },
   "outputs": [
    {
     "name": "stdout",
     "output_type": "stream",
     "text": [
      "[u'ab.pkl', u'b1.pkl', u'b2.pkl', u'byd.pkl', u'dxb.pkl', u'gyx.pkl', u'hj.pkl', u'hp.pkl', u'ljx.pkl', u'ljy.pkl', u'qxj.pkl', u'shx.pkl', u'sll.pkl', u'szh.pkl', u'wcy.pkl', u'wgp.pkl', u'wj.pkl', u'wls.pkl', u'wqq.pkl', u'wt.pkl', u'wx.pkl', u'wzh.pkl', u'xlz.pkl', u'xsl.pkl', u'xwj.pkl', u'ycl.pkl', u'zgy.pkl', u'zhp.pkl', u'zym.pkl']\n"
     ]
    }
   ],
   "source": [
    "print fileName"
   ]
  },
  {
   "cell_type": "code",
   "execution_count": 4,
   "metadata": {
    "collapsed": true
   },
   "outputs": [],
   "source": [
    "def encode1(label):\n",
    "    for i in range(label.shape[0]):\n",
    "        if label[i] == \"W\":\n",
    "            label[i] = 0\n",
    "        elif label[i] == \"N1\":\n",
    "            label[i] = 1\n",
    "        elif label[i] == \"N2\":\n",
    "            label[i] = 1\n",
    "        elif label[i] == \"N3\":\n",
    "            label[i] = 1\n",
    "        elif label[i] == \"R\":\n",
    "            label[i] = 0\n",
    "    return label\n",
    "def encode2(label):\n",
    "    for i in range(label.shape[0]):\n",
    "        if label[i] == \"W\":\n",
    "            label[i] = 0\n",
    "        elif label[i] == \"N1\":\n",
    "            label[i] = 1\n",
    "        elif label[i] == \"N2\":\n",
    "            label[i] = 2\n",
    "        elif label[i] == \"N3\":\n",
    "            label[i] = 3\n",
    "        elif label[i] == \"R\":\n",
    "            label[i] = 0\n",
    "    return label\n",
    "def encode3(label):\n",
    "    for i in range(label.shape[0]):\n",
    "        if label[i] == \"W\":\n",
    "            label[i] = 0\n",
    "        elif label[i] == \"N1\":\n",
    "            label[i] = 1\n",
    "        elif label[i] == \"N2\":\n",
    "            label[i] = 2\n",
    "        elif label[i] == \"N3\":\n",
    "            label[i] = 3\n",
    "        elif label[i] == \"R\":\n",
    "            label[i] = 0\n",
    "    return label\n",
    "def encode4(label):\n",
    "    for i in range(label.shape[0]):\n",
    "        if label[i] == \"W\":\n",
    "            label[i] = 0\n",
    "        elif label[i] == \"N1\":\n",
    "            label[i] = 1\n",
    "        elif label[i] == \"N2\":\n",
    "            label[i] = 2\n",
    "        elif label[i] == \"N3\":\n",
    "            label[i] = 3\n",
    "        elif label[i] == \"R\":\n",
    "            label[i] = 4\n",
    "    return label"
   ]
  },
  {
   "cell_type": "code",
   "execution_count": 5,
   "metadata": {
    "collapsed": false
   },
   "outputs": [
    {
     "name": "stdout",
     "output_type": "stream",
     "text": [
      "('TRAIN:', array([ 1,  2,  3,  4,  6,  7,  8,  9, 10, 12, 13, 14, 15, 16, 17, 19, 20,\n",
      "       22, 23, 25, 26, 27, 28]), 'TEST:', array([ 0,  5, 11, 18, 21, 24]))\n",
      "('TRAIN:', array([ 0,  1,  4,  5,  6,  7,  8,  9, 10, 11, 12, 13, 14, 15, 16, 17, 18,\n",
      "       20, 21, 22, 24, 27, 28]), 'TEST:', array([ 2,  3, 19, 23, 25, 26]))\n",
      "('TRAIN:', array([ 0,  2,  3,  4,  5,  6,  7, 11, 12, 13, 15, 16, 17, 18, 19, 20, 21,\n",
      "       22, 23, 24, 25, 26, 28]), 'TEST:', array([ 1,  8,  9, 10, 14, 27]))\n",
      "('TRAIN:', array([ 0,  1,  2,  3,  5,  6,  8,  9, 10, 11, 14, 15, 17, 18, 19, 21, 22,\n",
      "       23, 24, 25, 26, 27, 28]), 'TEST:', array([ 4,  7, 12, 13, 16, 20]))\n",
      "('TRAIN:', array([ 0,  1,  2,  3,  4,  5,  7,  8,  9, 10, 11, 12, 13, 14, 16, 18, 19,\n",
      "       20, 21, 23, 24, 25, 26, 27]), 'TEST:', array([ 6, 15, 17, 22, 28]))\n"
     ]
    }
   ],
   "source": [
    "kf = KFold(n_splits=5, random_state=17, shuffle=True)\n",
    "for train_index, test_index in kf.split(fileName):\n",
    "    print(\"TRAIN:\", train_index, \"TEST:\", test_index)"
   ]
  },
  {
   "cell_type": "code",
   "execution_count": 6,
   "metadata": {
    "collapsed": false
   },
   "outputs": [],
   "source": [
    "def create_model():\n",
    "    model = XGBClassifier(\n",
    "        learning_rate = 0.008,\n",
    "        n_estimators = 10000,\n",
    "        max_depth = 4,\n",
    "        min_child_weight = 1,\n",
    "        gamma = 1,\n",
    "        subsample = 0.7,\n",
    "        reg_lambda = 0.5,\n",
    "        colsample_bytree = 0.8,\n",
    "        objective = 'multi:softmax',\n",
    "        nthread = -1,\n",
    "        silent = False,\n",
    "        seed = 1)\n",
    "    return model"
   ]
  },
  {
   "cell_type": "code",
   "execution_count": 8,
   "metadata": {
    "collapsed": false
   },
   "outputs": [
    {
     "name": "stdout",
     "output_type": "stream",
     "text": [
      "(938, 9311)\n",
      "(1062, 9311)\n",
      "(1039, 9311)\n",
      "(1011, 9311)\n",
      "(1009, 9311)\n",
      "(978, 9311)\n",
      "(953, 9311)\n",
      "(986, 9311)\n",
      "(1107, 9311)\n",
      "(896, 9311)\n",
      "(1025, 9311)\n",
      "(963, 9311)\n",
      "(988, 9311)\n",
      "(1021, 9311)\n",
      "(972, 9311)\n",
      "(971, 9311)\n",
      "(1019, 9311)\n",
      "(1162, 9311)\n",
      "(939, 9311)\n",
      "(920, 9311)\n",
      "(894, 9311)\n",
      "(930, 9311)\n",
      "(887, 9311)\n",
      "[dict_learning] .++++++++++++++++++++++++++++++++++++++++++++++++++++++++++++++++++++++++++++++++++++++++++++++++++++++++++++++++++++++++++++++++++++++++++++++++++++++++++++++++++++++++++++++++++++++++++++++++++++++++++++++++++++++++++++++++++++++++++++++++++++++++++++++++++++++++++++++++++++++++++++++++++++++++++++++++++++++++++++++++++++++++++++++++++++++++++++++++++++++++++++++++++++++++++++++++++++++++++++++++++++++++++++++++++++++++++++++++++++++++++++++++++++++++++++++++++++++++++++++++++++++++++++++++++++++++++++++++++++++++++++++++++++++++++++++++++++++++++++++++++++++++++++++++++++++++++++++++++++++++++++++++++++++++++++++++++++++++++++++++++++++++++++++++++++++++++++++++++++++++++++++++++++++++++++++++++++++++++++++++++++++++++++++++++++++++++++++++++++++++++++++++++++++++++++++++++++++++++++++++++++++++++++++++++++++++++++++++++++++++++++++++++++++++++++++++++++++++++++++++++++++++++++++++++++++++++++++++++++++++++++++++++++++++++++++++++++++++++++++++++++++++++++++++++++++++++++++++++++++++++++++++++++++++++++++++++++++++++++++++++++++++++++++++++++++++++++++++++++++++++++++++++++++++++++++++++++++++++++++++++++++++++++++++++++++++++++++++++++++++++++++++++++++++++++++++++++++++++++++++++++++++++++++++++++++++++++++++++++++++++++++++++++++++++++++++++++++++++++++++++++++++++++++++++++++++++++++++++++++++++++++++++++++++++++++++++++++++++++++++++++++++++++++++++++++++++++++++++++++++++++++++++++++++++++++++++++++++++++++++++++++++++++++++++++++++++++++++++++++++++++++++++++++++++++++++++++++++++++++++++++++++++++++++++++++++++++++++++++++++++++++++++++++++++++++++++++++++++++++++++++++++++++++++++++++++++++++++++++++++++++++++++++++++++++++++++++++++++++++++++++++++++++++++++++++++++++++++++++++++++++++++++++++++++++++++++++++++++++++++++++++++++++++++++++++++++++++++++++++++++++++++++++++++++++++++++++++++++++++++++++++++++++++++++++++++++++++++++++++++++++++++++++++++++++++++++++++++++++++++++++++++++++++++++++++++++++++++++++++++++++++++++++++++++++++++++++++++++++++++++++++++++++++++++++++++++++++++++++++++++++++++++++++++++++++++++++++++++++++++++++++++++++++++++++++++++++++++++++++++++++++++++++++++++++++++++++++++++++++++++++++++++++++++++++++++++++++++++++++++++++++++++++++++++++++++++++++++++++++++++++++++++++++++++++++++++++++++++++++++++++++++++++++++++++++++++++++++++++++++++++++++++++++++++++++++++++++++++++++++++++++++++++++++++++++++++++++++++++++++++++++++++++++++++++++++++++++++++++++++++++++++++++++++++++++++++++++++++++++++++++++++++++++++++++++++++++++++++++++++++++++++++++++++++++++++++++++++++++++++++++++++++++++++++++++++++++++++++++++++++++++++++++++++++++++++++++++++++++++++++++++++++++++++++++++++++++++++++++++++++++++++++++++++++++++++++++++++++++++++++++++++++++++++++++++++++++++++++++++++++++++++++++++++++++++++++++++++++++++++++++++++++++++++++++++++++++++++++++++++++++++++++++++++++++++++++++++++++++++++++++++++++++++++++++++++++++++++++++++++++++++++++++++++++++++++++++++++++++++++++++++++++++++++++++++++++++++++++++++++++++++++++++++++++++++++++++++++++++++++++++++++++++++++++++++++++++++++++++++++++++++++++++++++++++++++++++++++++++++++++++++++++++++++++++++++++++++++++++++++++++++++++++++++++++++++++++++++++++++++++++++++++++++++++++++++++++++++++++++++++++++++++++++++++++++++++++++++++++++++++++++++++++++++++++++++++++++++++++++++++++++++++++++++++++++++++++++++++++++++++++++++++++++++++++++++++++++++++++++++++++++++++++++++++++++++++++++++++++++++++++++++++++++++++++++++++++++++++++++++++++++++++++++++++++++++++++++++++++++++++++++++++++++++++++++++++++++++++++++++++++++++++++++++++++++++++++++++++++++++++++++++++++++++++++++++++++++++++++++++++++++++++++++++++++++++++++++++++++++++++++++++++++++++++++++++++++++++++++++++++++++++++++++++++++++++++++++++++++++++++++++++++++++++++++++++++++++++++++++++++++++++++++++++++++++++++++++++++++++++++++++++++++++++++++++++++++++++++++++++++++++++++++++++++++++++++++++++++++++++++++++++++++++++++++++++++++++++++++++++++++++++++++++++++++++++++++++++++++++++++++++++++++++++++++++++++++++++++++++++++++++++++++++++++++++++++++++++++++++++++++++++++++++++++++++++++++++++++++++++++++++++++++++++++++++++++++++++++++++++++++++++++++++++++++++++++++++++++++++++++++++++++++++++++++++++++++++++++++++++++++++++++++++++++++++++++++++++++++++++++++++++++++++++++++++++++++++++++++++++++++++++++++++++++++++++++++++++++++++++++++++++++++++++++++++++++++++++++++++++++++++++++++++++++++++++++++++++++++++++++++++++++++++++++++++++++++++++++++++++++++++++++++++++++++++++++++++++++++++++++++++++++++++++++++++++++++++++++++++++++++++++++++++++++++++++++++++++++++++++++++++++++++++++++++++++++++++++++++++++++++++++++++++++++++++++++++++++++++++++++++++++++++++++++++++++++++++++++++++++++++++++++++++++++++++++++++++++++++++++++++++++++++++++++++++++++++++++++++++++++++++++++++++++++++++++++++++++++++++++++++++++++++++++++++++++++++++++++++++++++++++++++++++++++++++++++++++++++++++++++++++++++++++++++++++++++++++++++++++++++++++++++++++++++++++++++++++++++++++++++++++++++++++++++++++++++++++++++++++++++++++++++++++++++++++++++++++++++++++++++++++++++++++++++++++++++++++++++++++++++++++++++++++++++++++++++++++++++++++++++++++++++++++++++++++++++++++++++++++++++++++++++++++++++++++++++++++++++++++++++++++++++++++++++++++++++++++++++++++++++++++++++++++++++++++++++++++++++++++++++++++++++++++++++++++++++++++++++++++++++++++++++++++++++++++++++++++++++++++++++++++++++++++++++++++++++++++++++++++++++++++++++++++++++++++++++++++++++++++++++++++++++++++++++++++++++++++++++++++++++++++++++++++++++++++++++++++++++++++++++++++++++++++++++++++++++++++++++++++++++++++++++++++++++++++++++++++++++++++++++++++++++++++++++++++++++++++++++++++++++++++++++++++++++++++++++++++++++++++++++++++++++++++++++++++++++++++++++++++++++++++++++++++++++++++++++++++++++++++++++++++++++++++++++++++++++++++++++++++++++++++++++++++++++++++++++++++++++++++++++++++++++++++++++++++++++++++++++++++++++++++++++++++++++++++++++++++++++++++++++++++++++++++++++++++++++++++++++++++++++++++++++++++++++++++++++++++++++++++++++++++++++++++++++++++++++++++++++++++++++++++++++++++++++++++++++++++++++++++++++++++++++++++++++++++++++++++++++++++++++++++++++++++++++++++++++++++++++++++++++++++++++++++++++++++++++++++++++++++++++++++++++++++++++++++++++++++++++++++++++++++++++++++++++++++++++++++++++++++++++++++++++++++++++++++++++++++++++++++++++++++++++++++++++++++++++++++++++++++++++++++++++++++++++++++++++++++++++++++++++++++++++++++++++++++++++++++++++++++++++++++++++++++++++++++++++++++++++++++++++++++++++++++++++++++++++++++++++++++++++++++++++++++++++++++++++++++++++++++++++++++++++++++++++++++++++++++++++++++++++++++++++++++++++++++++++++++++++++++++++++++++++++++++++++++++++++++++++++++++++++++++++++++++++++++++++++++++++++++++++++++++++++++++++++++++++++++++++++++++++++++++++++++++++++++++++++++++++++++++++++++++++++++++++++++++++++++++++++++++++++++++++++++++++++++++++++++++++++++++++++++++++++++++++++++++++++++++++++++++++++++++++++++++++++++++++++++++++++++++++++++++++++++++++++++++++++++++++++++++++++++++++++++++++++++++++++++++++++++++++++++++++++++++++++++++++++++++++++++++++++++++++++++++++++++++++++++++++++++++++++++++++++++++++++++++++++++++++++++++++++++++++++++++++++++++++++++++++++++++++++++++++++++++++++++++++++++++++++++++++++++++++++++++++++++++++++++++++++++++++++++++++++++++++++++++++++++++++++++++++++++++++++++++++++++++++++++++++++++++++++++++++++++++++++++++++++++++++++++++++++++++++++++++++++++++++++++++++++++++++++++++++++++++++++++++++++++++++++++++++++++++++++++++++++++++++++++++++++++++++++++++++++++++++++++++++++++++++++++++++++++++++++++++++++++++++++++++++++++++++++++++++++++++++++++++++++++++++++++++++++++++++++++++++++++++++++++++++++++++++++++++++++++++++++++++++++++++++++++++++++++++++++++++++++++++++++++++++++++++++++++++++++++++++++++++++++++++++++++++++++++++++++++++++++++++++++++++++++++++++++++++++++++++++++++++++++++++++++++++++++++++++++++++++++++++++++++++++++++++++++++++++++++++++++++++++++++++++++++++++++++++++++++++++++++++++++++++++++++++++++++++++++++++++++++++++++++++++++++++++++++++++++++++++++++++++++++++++++++++++++++++++++++++++++++++++++++++++++++++++++++++++.++++++++++++++++++++++++++++++++++++++++++++.+++++++++++++++++++++++++++++++++++++++++++++++++++++++++++++++++++++++++++++++++++++++++++++++++++++++++++++++++++++++++++++++++++++++++++++++++++++++++++++++++++++++++++++++++++++++++++++++++++++++++++++++++++++++++++++++++++++++++++++++++++++++++++++++++++++++++++++++++++++++++++++++++++++++++++++++++++++++++++++++++++++++++++++++++++++++++++++++++++++++++++++++++++++++++++++++++++++++++++++++++++++++++++++++++++++++++++++++++++++++++++++++++++++++++++++++++++++++++++++++++++++++++++++++++++++++++++++++++++++++++++++++++++++++++++++++++++++++++++++++++++++++++++++++++++++++++++++++++++++++++++++++++++++++++++++++++++++++++++++++++++++++++++++++++++++++++++++++++++++++++++++++++++++++++++++++++++++++++++++++++++++++++++++++++++++++++++++++++++++++++++++++++++++++++++++++++++++++++++++++++++++++++++++++++++++++++++++++++++++++++++++++++++++++++++++++++++++++++++++++++++++++++++++++."
     ]
    },
    {
     "name": "stderr",
     "output_type": "stream",
     "text": [
      "ERROR:root:Internal Python error in the inspect module.\n",
      "Below is the traceback from this internal error.\n",
      "\n"
     ]
    },
    {
     "name": "stdout",
     "output_type": "stream",
     "text": [
      "Traceback (most recent call last):\n",
      "  File \"/home/centos/anaconda2/lib/python2.7/site-packages/IPython/core/ultratb.py\", line 1132, in get_records\n",
      "    return _fixed_getinnerframes(etb, number_of_lines_of_context, tb_offset)\n",
      "  File \"/home/centos/anaconda2/lib/python2.7/site-packages/IPython/core/ultratb.py\", line 313, in wrapped\n",
      "    return f(*args, **kwargs)\n",
      "  File \"/home/centos/anaconda2/lib/python2.7/site-packages/IPython/core/ultratb.py\", line 358, in _fixed_getinnerframes\n",
      "    records = fix_frame_records_filenames(inspect.getinnerframes(etb, context))\n",
      "  File \"/home/centos/anaconda2/lib/python2.7/inspect.py\", line 1048, in getinnerframes\n",
      "    framelist.append((tb.tb_frame,) + getframeinfo(tb, context))\n",
      "  File \"/home/centos/anaconda2/lib/python2.7/inspect.py\", line 1012, in getframeinfo\n",
      "    lines, lnum = findsource(frame)\n",
      "  File \"/home/centos/anaconda2/lib/python2.7/site-packages/IPython/core/ultratb.py\", line 182, in findsource\n",
      "    lines = linecache.getlines(file, globals_dict)\n",
      "  File \"/home/centos/anaconda2/lib/python2.7/linecache.py\", line 41, in getlines\n"
     ]
    },
    {
     "name": "stderr",
     "output_type": "stream",
     "text": [
      "\n",
      "KeyboardInterrupt\n",
      "\n"
     ]
    }
   ],
   "source": [
    "acc_final = 0\n",
    "# importance = np.zeros(500,)\n",
    "filepath1=unicode('/mnt/nas/eeg/processed_data/','utf8')\n",
    "for train_index, test_index in kf.split(fileName):\n",
    "    \n",
    "    trainArr = np.array([])\n",
    "    testArr = np.array([])\n",
    "    for i in train_index:\n",
    "        f = fileName[i]\n",
    "#         print f\n",
    "        data = pd.read_pickle(filepath+f)\n",
    "#         label = pd.read_pickle(filepath1+f).label\n",
    "#         data = data.join(label)\n",
    "        train = data#[data.label != '?']\n",
    "        train = train.replace([np.inf, -np.inf], np.nan)\n",
    "        train = train.fillna(value = 0)\n",
    "        train = np.array(train)\n",
    "        print data.shape\n",
    "        trainArr = np.append(trainArr, train)\n",
    "\n",
    "    for i in test_index:\n",
    "        f = fileName[i]\n",
    "        #print f\n",
    "        data = pd.read_pickle(filepath+f)\n",
    "#         label = pd.read_pickle(filepath1+f).label\n",
    "#         data = data.join(label)\n",
    "        test = data#[data.label != '?']\n",
    "        test = test.replace([np.inf, -np.inf], np.nan)\n",
    "        test = test.fillna(value = 0)\n",
    "        test = np.array(test)\n",
    "        testArr = np.append(testArr, test)\n",
    "    \n",
    "    \n",
    "    trainArr = trainArr.reshape(-1, 9311)\n",
    "    testArr = testArr.reshape(-1, 9311)\n",
    "    label_train = trainArr[::,-1]\n",
    "    label_test = testArr[::,-1]\n",
    "#     print label_train, label_test\n",
    "    train = trainArr[::,:9310] \n",
    "#     temp = np.concatenate([train,train],axis=1)\n",
    "#     temp = np.concatenate([temp,train],axis=1)\n",
    "#     temp[1:,250:500] = train[:-1,::]\n",
    "#     temp[2:,500:] = train[:-2,::]\n",
    "#     train = temp\n",
    "#     del temp\n",
    "    \n",
    "    test = testArr[::,:9310]\n",
    "#     temp = np.concatenate([test,test],axis=1)\n",
    "#     temp = np.concatenate([temp,test],axis=1)\n",
    "#     temp[1:,250:500] = test[:-1,::]\n",
    "#     temp[2:,500:] = test[:-2,::]\n",
    "#     test = temp\n",
    "#     del temp\n",
    "\n",
    "#     dec = PCA(n_components='mle', \n",
    "#               copy=True, \n",
    "#               whiten=False, \n",
    "#               svd_solver='full', \n",
    "#               tol=0.0, \n",
    "#               iterated_power='auto', \n",
    "#               random_state=None)\n",
    "    dec = SparsePCA(n_components=None, \n",
    "                     alpha=1, \n",
    "                     ridge_alpha=0.01, \n",
    "                     max_iter=1000, \n",
    "                     tol=1e-08, \n",
    "                     method='lars', \n",
    "                     n_jobs=1, \n",
    "                     U_init=None, \n",
    "                     V_init=None, \n",
    "                     verbose=True, \n",
    "                     random_state=None)\n",
    "    \n",
    "    N_train = encode4(label_train)\n",
    "    N_test = encode4(label_test)\n",
    "    train = dec.fit_transform(train)\n",
    "    test = dec.transform(test)\n",
    "    print train.shape()\n",
    "    break\n",
    "    \n",
    "    \n",
    "#     train = train[np.where(N_train != 0)]\n",
    "#     test = test[np.where(N_test != 0)]\n",
    "#     label_train = label_train[np.where(N_train != 0)]\n",
    "#     label_test = label_test[np.where(N_test != 0)]\n",
    "    \n",
    "    \n",
    "    X_train, X_eval, Y_train, Y_eval = train_test_split(\n",
    "                            train, label_train, test_size=0.1)\n",
    "    print X_train.shape, X_eval.shape, Y_train.shape, Y_eval.shape\n",
    "     \n",
    "#     Y_train = encode2(Y_train)\n",
    "#     Y_eval = encode2(Y_eval)\n",
    "#     label_test = encode2(label_test)\n",
    "    \n",
    "    print \"trianing the model\"\n",
    "    model = create_model()\n",
    "    model.fit(X_train, Y_train, eval_metric='merror', eval_set=[(X_train, Y_train),(X_eval,Y_eval)], \n",
    "              verbose=300,\n",
    "#               verbose=False,\n",
    "              early_stopping_rounds = 1000)\n",
    "    pred = model.predict(test)\n",
    "    \n",
    "    acc = pred == label_test\n",
    "    acc = acc.sum()*1.0 / acc.shape[0]\n",
    "    print acc\n",
    "    acc_final += acc\n",
    "    \n",
    "    pred = pred.tolist()\n",
    "    label_test = label_test.tolist()\n",
    "    a = confusion_matrix(pred, label_test)\n",
    "    print a\n",
    "    \n",
    "#     importance = importance + model.feature_importances_\n",
    "    del model\n",
    "print acc_final / 5"
   ]
  },
  {
   "cell_type": "code",
   "execution_count": 6,
   "metadata": {
    "collapsed": true
   },
   "outputs": [],
   "source": [
    "from sklearn.ensemble import RandomForestClassifier"
   ]
  },
  {
   "cell_type": "code",
   "execution_count": 57,
   "metadata": {
    "collapsed": false
   },
   "outputs": [],
   "source": [
    "def create_model():\n",
    "    model = RandomForestClassifier(\n",
    "        n_estimators=1000, \n",
    "        max_depth=50, \n",
    "        min_samples_split=2, \n",
    "        min_samples_leaf=1,\n",
    "        min_weight_fraction_leaf=0.0, \n",
    "        max_features= 30, \n",
    "        max_leaf_nodes=None, \n",
    "        bootstrap=True, \n",
    "        oob_score=True, \n",
    "        n_jobs=-1, \n",
    "        random_state=17, \n",
    "        verbose=1, \n",
    "        warm_start=False)\n",
    "    return model"
   ]
  },
  {
   "cell_type": "code",
   "execution_count": 58,
   "metadata": {
    "collapsed": false
   },
   "outputs": [
    {
     "name": "stdout",
     "output_type": "stream",
     "text": [
      "trianing the model\n",
      "4 0"
     ]
    },
    {
     "name": "stderr",
     "output_type": "stream",
     "text": [
      "[Parallel(n_jobs=-1)]: Done  88 tasks      | elapsed:    2.8s\n",
      "[Parallel(n_jobs=-1)]: Done 338 tasks      | elapsed:    8.8s\n",
      "[Parallel(n_jobs=-1)]: Done 688 tasks      | elapsed:   17.1s\n",
      "[Parallel(n_jobs=-1)]: Done 1000 out of 1000 | elapsed:   24.1s finished\n",
      "[Parallel(n_jobs=56)]: Done  88 tasks      | elapsed:    0.1s\n",
      "[Parallel(n_jobs=56)]: Done 338 tasks      | elapsed:    0.5s\n",
      "[Parallel(n_jobs=56)]: Done 688 tasks      | elapsed:    0.9s\n",
      "[Parallel(n_jobs=56)]: Done 1000 out of 1000 | elapsed:    1.4s finished\n"
     ]
    },
    {
     "name": "stdout",
     "output_type": "stream",
     "text": [
      "\n",
      "0.771688741722\n",
      "[[ 864  104   12    7   67]\n",
      " [  35  351   59    0   48]\n",
      " [   4  180 1520  138  202]\n",
      " [   2   16  320 1411   71]\n",
      " [  21   52   41    0  515]]\n",
      "trianing the model\n",
      "4 0\n"
     ]
    },
    {
     "name": "stderr",
     "output_type": "stream",
     "text": [
      "[Parallel(n_jobs=-1)]: Done  88 tasks      | elapsed:    3.1s\n",
      "[Parallel(n_jobs=-1)]: Done 338 tasks      | elapsed:   10.0s\n",
      "[Parallel(n_jobs=-1)]: Done 688 tasks      | elapsed:   18.9s\n",
      "[Parallel(n_jobs=-1)]: Done 1000 out of 1000 | elapsed:   26.8s finished\n",
      "[Parallel(n_jobs=56)]: Done  88 tasks      | elapsed:    0.1s\n",
      "[Parallel(n_jobs=56)]: Done 338 tasks      | elapsed:    0.4s\n",
      "[Parallel(n_jobs=56)]: Done 688 tasks      | elapsed:    0.8s\n",
      "[Parallel(n_jobs=56)]: Done 1000 out of 1000 | elapsed:    1.2s finished\n"
     ]
    },
    {
     "name": "stdout",
     "output_type": "stream",
     "text": [
      "0.851044296534\n",
      "[[1064  137    9    0    4]\n",
      " [   9  422   30    0   19]\n",
      " [   2  214 1518  103   24]\n",
      " [   1    1   32  316    0]\n",
      " [   4   36   24    0  388]]\n",
      "trianing the model\n",
      "4 "
     ]
    },
    {
     "name": "stderr",
     "output_type": "stream",
     "text": [
      "[Parallel(n_jobs=-1)]: Done  88 tasks      | elapsed:    2.9s\n",
      "[Parallel(n_jobs=-1)]: Done 338 tasks      | elapsed:    9.1s\n",
      "[Parallel(n_jobs=-1)]: Done 688 tasks      | elapsed:   17.7s\n",
      "[Parallel(n_jobs=-1)]: Done 1000 out of 1000 | elapsed:   24.9s finished\n",
      "[Parallel(n_jobs=56)]: Done  88 tasks      | elapsed:    0.1s\n",
      "[Parallel(n_jobs=56)]: Done 338 tasks      | elapsed:    0.5s\n",
      "[Parallel(n_jobs=56)]: Done 688 tasks      | elapsed:    1.0s\n",
      "[Parallel(n_jobs=56)]: Done 1000 out of 1000 | elapsed:    1.5s finished\n"
     ]
    },
    {
     "name": "stdout",
     "output_type": "stream",
     "text": [
      "0\n",
      "0.76804835924\n",
      "[[ 851  184   20    2   25]\n",
      " [  65  739  203    0  140]\n",
      " [  17  278 1847  241   75]\n",
      " [   1    0   39  408    0]\n",
      " [   4   30   19    0  602]]\n",
      "trianing the model\n",
      "4 0\n"
     ]
    },
    {
     "name": "stderr",
     "output_type": "stream",
     "text": [
      "[Parallel(n_jobs=-1)]: Done  88 tasks      | elapsed:    3.1s\n",
      "[Parallel(n_jobs=-1)]: Done 338 tasks      | elapsed:    9.1s\n",
      "[Parallel(n_jobs=-1)]: Done 688 tasks      | elapsed:   17.7s\n",
      "[Parallel(n_jobs=-1)]: Done 1000 out of 1000 | elapsed:   24.9s finished\n",
      "[Parallel(n_jobs=56)]: Done  88 tasks      | elapsed:    0.1s\n",
      "[Parallel(n_jobs=56)]: Done 338 tasks      | elapsed:    0.5s\n",
      "[Parallel(n_jobs=56)]: Done 688 tasks      | elapsed:    1.0s\n",
      "[Parallel(n_jobs=56)]: Done 1000 out of 1000 | elapsed:    1.4s finished\n"
     ]
    },
    {
     "name": "stdout",
     "output_type": "stream",
     "text": [
      "0.76092804304\n",
      "[[1613   76    7    0    9]\n",
      " [ 265  623  181    0  108]\n",
      " [  67  289 1448  170   59]\n",
      " [   0    0   21  424    0]\n",
      " [  30  101   39    0  418]]\n",
      "trianing the model\n",
      "4 0\n"
     ]
    },
    {
     "name": "stderr",
     "output_type": "stream",
     "text": [
      "[Parallel(n_jobs=-1)]: Done  88 tasks      | elapsed:    3.2s\n",
      "[Parallel(n_jobs=-1)]: Done 338 tasks      | elapsed:   10.3s\n",
      "[Parallel(n_jobs=-1)]: Done 688 tasks      | elapsed:   20.0s\n",
      "[Parallel(n_jobs=-1)]: Done 1000 out of 1000 | elapsed:   28.3s finished\n",
      "[Parallel(n_jobs=56)]: Done  88 tasks      | elapsed:    0.1s\n",
      "[Parallel(n_jobs=56)]: Done 338 tasks      | elapsed:    0.4s\n",
      "[Parallel(n_jobs=56)]: Done 688 tasks      | elapsed:    0.8s\n"
     ]
    },
    {
     "name": "stdout",
     "output_type": "stream",
     "text": [
      "0.867009996971\n",
      "[[ 843    9    3    0   10]\n",
      " [  51  304   94    0   59]\n",
      " [   6   77 1092   44   14]\n",
      " [   1    0   27  274    0]\n",
      " [  13   25    6    0  349]]\n",
      "0.803743887501\n"
     ]
    },
    {
     "name": "stderr",
     "output_type": "stream",
     "text": [
      "[Parallel(n_jobs=56)]: Done 1000 out of 1000 | elapsed:    1.4s finished\n"
     ]
    }
   ],
   "source": [
    "acc_final = 0\n",
    "# importance = np.zeros(500,)\n",
    "filepath1=unicode('/mnt/nas/eeg/processed_data/','utf8')\n",
    "for train_index, test_index in kf.split(fileName):\n",
    "    \n",
    "    trainArr = np.array([])\n",
    "    testArr = np.array([])\n",
    "    for i in train_index:\n",
    "        f = fileName[i]\n",
    "#         print f\n",
    "        data = pd.read_pickle(filepath+f)\n",
    "        label = pd.read_pickle(filepath1+f).label\n",
    "        data = data.join(label)\n",
    "        train = data#[data.label != '?']\n",
    "        train = np.array(train)\n",
    "        trainArr = np.append(trainArr, train)\n",
    "\n",
    "    for i in test_index:\n",
    "        f = fileName[i]\n",
    "        #print f\n",
    "        data = pd.read_pickle(filepath+f)\n",
    "        label = pd.read_pickle(filepath1+f).label\n",
    "        data = data.join(label)\n",
    "        test = data#[data.label != '?']\n",
    "        test = np.array(test)\n",
    "        testArr = np.append(testArr, test)\n",
    "    \n",
    "    \n",
    "    trainArr = trainArr.reshape(-1, 251)\n",
    "    testArr = testArr.reshape(-1, 251)\n",
    "    label_train = trainArr[::,-1]\n",
    "    label_test = testArr[::,-1]\n",
    "#     print label_train, label_test\n",
    "    train = trainArr[::,:250] \n",
    "    temp = np.concatenate([train,train],axis=1)\n",
    "    temp = np.concatenate([temp,train],axis=1)\n",
    "    temp[1:,250:500] = train[:-1,::]\n",
    "    temp[2:,500:] = train[:-2,::]\n",
    "    train = temp\n",
    "    del temp\n",
    "    \n",
    "    test = testArr[::,:250]\n",
    "    temp = np.concatenate([test,test],axis=1)\n",
    "    temp = np.concatenate([temp,test],axis=1)\n",
    "    temp[1:,250:500] = test[:-1,::]\n",
    "    temp[2:,500:] = test[:-2,::]\n",
    "    test = temp\n",
    "    del temp\n",
    "    \n",
    "    N_train = encode4(label_train)\n",
    "    N_test = encode4(label_test)\n",
    "    \n",
    "#     train = train[np.where(N_train != 0)]\n",
    "#     test = test[np.where(N_test != 0)]\n",
    "#     label_train = label_train[np.where(N_train != 0)]\n",
    "#     label_test = label_test[np.where(N_test != 0)]\n",
    "    \n",
    "    \n",
    "#     X_train, X_eval, Y_train, Y_eval = train_test_split(\n",
    "#                             train, label_train, test_size=0.1)\n",
    "#     print X_train.shape, X_eval.shape, Y_train.shape, Y_eval.shape\n",
    "     \n",
    "#     Y_train = encode2(Y_train)\n",
    "#     Y_eval = encode2(Y_eval)\n",
    "#     label_test = encode2(label_test)\n",
    "    \n",
    "    print \"trianing the model\"\n",
    "    model = create_model()\n",
    "    print label_train.max(),label_train.min()\n",
    "    model.fit(train, label_train.tolist())\n",
    "    pred = model.predict(test)\n",
    "    \n",
    "    acc = pred == label_test\n",
    "    acc = acc.sum()*1.0 / acc.shape[0]\n",
    "    print acc\n",
    "    acc_final += acc\n",
    "    \n",
    "    pred = pred.tolist()\n",
    "    label_test = label_test.tolist()\n",
    "    a = confusion_matrix(pred, label_test)\n",
    "    print a\n",
    "    \n",
    "#     importance = importance + model.feature_importances_\n",
    "    del model\n",
    "print acc_final / 5"
   ]
  },
  {
   "cell_type": "code",
   "execution_count": null,
   "metadata": {
    "collapsed": false
   },
   "outputs": [],
   "source": [
    "0.830262562699\n",
    "def create_model():\n",
    "    model = XGBClassifier(\n",
    "        learning_rate = 0.008,\n",
    "        n_estimators = 10000,\n",
    "        max_depth = 4,\n",
    "        min_child_weight = 1,\n",
    "        gamma = 0.5,\n",
    "        subsample = 0.7,\n",
    "        reg_lambda = 1,\n",
    "        colsample_bytree = 0.8,\n",
    "        objective = 'multi:softmax',\n",
    "        nthread = -1,\n",
    "        silent = False,\n",
    "        seed = 1)\n",
    "    return model"
   ]
  },
  {
   "cell_type": "code",
   "execution_count": 23,
   "metadata": {
    "collapsed": false
   },
   "outputs": [
    {
     "name": "stdout",
     "output_type": "stream",
     "text": [
      "0.80177797847\n"
     ]
    }
   ],
   "source": [
    "print acc_final / 5"
   ]
  },
  {
   "cell_type": "code",
   "execution_count": 13,
   "metadata": {
    "collapsed": false
   },
   "outputs": [
    {
     "data": {
      "text/plain": [
       "array([ 0.06496657,  0.05667299,  0.06310821,  0.06155232,  0.05735025,\n",
       "        0.05976576,  0.05454363,  0.05513328,  0.05387664,  0.05365849,\n",
       "        0.04929789,  0.0550574 ,  0.05153917,  0.04909176,  0.04615115,\n",
       "        0.04384999,  0.05430839,  0.03932109,  0.0415833 ,  0.04679244,\n",
       "        0.04442161,  0.04927845,  0.03802336,  0.04605909,  0.04929746,\n",
       "        0.03932587,  0.04210556,  0.04707425,  0.03665189,  0.04849004,\n",
       "        0.04802434,  0.04436754,  0.04020575,  0.03923525,  0.04833454,\n",
       "        0.04583556,  0.04852351,  0.04555511,  0.04292247,  0.03891915,\n",
       "        0.03701295,  0.05052811,  0.04304066,  0.03724106,  0.03838096,\n",
       "        0.04251988,  0.04077366,  0.04183732,  0.05101721,  0.04018227,\n",
       "        0.04196293,  0.04161705,  0.04063203,  0.04086308,  0.0437109 ,\n",
       "        0.04282699,  0.03903559,  0.03635221,  0.04212748,  0.03810578,\n",
       "        0.04823234,  0.04294663,  0.03938753,  0.03564254,  0.03961834,\n",
       "        0.03670016,  0.03767151,  0.0363108 ,  0.03618325,  0.03523469,\n",
       "        0.03939387,  0.04334352,  0.03999048,  0.03861118,  0.03806959,\n",
       "        0.03095881,  0.03291623,  0.05151524,  0.03971923,  0.0383281 ,\n",
       "        0.03651947,  0.04274802,  0.03968815,  0.03657349,  0.03693084,\n",
       "        0.03789046,  0.04152494,  0.03545356,  0.03756696,  0.03989288,\n",
       "        0.04069371,  0.03243874,  0.04405028,  0.06203693,  0.04222614,\n",
       "        0.03729441,  0.04507998,  0.04049492,  0.0491789 ,  0.03943633,\n",
       "        0.04072995,  0.04445947,  0.04120541,  0.03631367,  0.04009717,\n",
       "        0.03344525,  0.03406252,  0.03995754,  0.03483869,  0.03745447,\n",
       "        0.03698227,  0.04451144,  0.03985821,  0.03840821,  0.03521719,\n",
       "        0.03596287,  0.03635107,  0.03617597,  0.03210276,  0.03117153,\n",
       "        0.04158777,  0.03326102,  0.03724785,  0.03731901,  0.03574028,\n",
       "        0.03563115,  0.03798022,  0.03388978,  0.0325142 ,  0.04052193,\n",
       "        0.03992108,  0.03326326,  0.05828533,  0.03498439,  0.04372839,\n",
       "        0.03666582,  0.03817039,  0.03903376,  0.03949722,  0.03146494,\n",
       "        0.03378753,  0.04133754,  0.04688652,  0.03995439,  0.03647434,\n",
       "        0.03625883,  0.03363269,  0.03615838,  0.04054422,  0.07436015,\n",
       "        0.04169626,  0.0396861 ,  0.03421648,  0.0606526 ,  0.04203922,\n",
       "        0.03444672,  0.05411894,  0.03781357,  0.03522094,  0.03970234,\n",
       "        0.03710929,  0.03203133,  0.0441065 ,  0.03718428,  0.03322937,\n",
       "        0.03549349,  0.0301732 ,  0.03103686,  0.03913092,  0.03921545,\n",
       "        0.05337154,  0.03988558,  0.03545112,  0.03645514,  0.03814929,\n",
       "        0.03515746,  0.03310769,  0.03944276,  0.03653488,  0.03446069,\n",
       "        0.04174292,  0.03679603,  0.03860928,  0.03429218,  0.03491488,\n",
       "        0.0335941 ,  0.03947101,  0.02755762,  0.03824721,  0.03823137,\n",
       "        0.0299142 ,  0.03620564,  0.03899143,  0.03720433,  0.0355345 ,\n",
       "        0.03091382,  0.03161039,  0.03797557,  0.04287822,  0.0337022 ,\n",
       "        0.05379978,  0.03522862,  0.03031021,  0.03468051,  0.04091178,\n",
       "        0.03253072,  0.03675199,  0.03191694,  0.03636298,  0.03056149,\n",
       "        0.02893237,  0.04245886,  0.03845199,  0.03354   ,  0.04162089,\n",
       "        0.03632563,  0.03398241,  0.03545824,  0.03102052,  0.04461715,\n",
       "        0.03396062,  0.03071775,  0.04107371,  0.03753401,  0.03529846,\n",
       "        0.03652859,  0.03831267,  0.03185898,  0.03542089,  0.03206262,\n",
       "        0.03272655,  0.04616288,  0.0388429 ,  0.035751  ,  0.03873707,\n",
       "        0.03689773,  0.03657646,  0.032949  ,  0.04130218,  0.02808853,\n",
       "        0.0356038 ,  0.0326922 ,  0.04086625,  0.04136299,  0.04924748,\n",
       "        0.03268707,  0.03527824,  0.04133986,  0.03043936,  0.03356934])"
      ]
     },
     "execution_count": 13,
     "metadata": {},
     "output_type": "execute_result"
    }
   ],
   "source": [
    "importance"
   ]
  },
  {
   "cell_type": "code",
   "execution_count": 14,
   "metadata": {
    "collapsed": false
   },
   "outputs": [
    {
     "name": "stdout",
     "output_type": "stream",
     "text": [
      "(250,)\n",
      "label\n"
     ]
    }
   ],
   "source": [
    "print importance.shape\n",
    "print data.columns[-1]"
   ]
  },
  {
   "cell_type": "code",
   "execution_count": 15,
   "metadata": {
    "collapsed": false,
    "scrolled": false
   },
   "outputs": [],
   "source": [
    "feature = data.columns[:-1]\n",
    "zipped = zip(feature,importance)\n",
    "zipped.sort(key = lambda t:t[1])\n",
    "zipped.reverse()\n",
    "im = zipped[:150]"
   ]
  },
  {
   "cell_type": "code",
   "execution_count": 16,
   "metadata": {
    "collapsed": false,
    "scrolled": false
   },
   "outputs": [
    {
     "data": {
      "text/plain": [
       "[('Chin1-Chin3beta_psd_minOrigin', 0.074360146652907133),\n",
       " ('E1-M2_bstd5', 0.064966574776917696),\n",
       " ('Snore_bstd5', 0.063108207657933235),\n",
       " ('Chin1-Chin3alpha_psd_medianOrigin', 0.062036932911723852),\n",
       " ('F3-M2_bstd5', 0.061552324332296848),\n",
       " ('ECG1-ECG2Energyrelative4Origin', 0.060652599204331636),\n",
       " ('E1-M2Energyrelative5Origin', 0.05976576404646039),\n",
       " ('Chin2-Chin3beta_psd_minOrigin', 0.058285326231271029),\n",
       " ('RLeg1-RLeg2_bstd5', 0.057350249029695988),\n",
       " ('F4-M1delta_psd_medianOrigin', 0.056672992184758186),\n",
       " ('F4-M1_bstd5', 0.055133275222033262),\n",
       " ('ECG1-ECG2_amin5', 0.055057404097169638),\n",
       " ('Chin1-Chin3_astd5', 0.054543632548302412),\n",
       " ('O2-M1_bstd5', 0.054308390244841576),\n",
       " ('ECG1-ECG2Energyratio2Origin', 0.054118943866342306),\n",
       " ('Snore_astd5', 0.053876635618507862),\n",
       " ('ECG1-ECG2_kurtosis_14', 0.053799784276634455),\n",
       " ('O2-M1Energyrelative5Origin', 0.053658489603549242),\n",
       " ('Chin1-Chin3_fftmean1', 0.053371540270745754),\n",
       " ('ECG1-ECG2_bmin5', 0.051539169158786535),\n",
       " ('Chin1-Chin3_fftmean0', 0.051515243947505951),\n",
       " ('F4-M1_thetamean4', 0.051017205230891705),\n",
       " ('E1-M2Energyrelative3Origin', 0.050528108607977629),\n",
       " ('F3-M2_skewness_14', 0.049297887366265059),\n",
       " ('O2-M1Energyrelative51', 0.049297457095235586),\n",
       " ('O1-M2Energyrelative54', 0.04927844787016511),\n",
       " ('Chin1-Chin3gamma_psd_stdOrigin', 0.04924748046323657),\n",
       " ('F3-M2Energyrelative3Origin', 0.049178895074874163),\n",
       " ('ECG1-ECG2_gammastd5', 0.049091762397438288),\n",
       " ('ECG1-ECG2Energyrelative5Origin', 0.048523507080972195),\n",
       " ('F4-M1gamma_psd_minOrigin', 0.048490036744624376),\n",
       " ('E1-M2_mobility_15', 0.04833453893661499),\n",
       " ('ECG1-ECG2delta_psd_minOrigin', 0.048232336295768619),\n",
       " ('C4-M1theta_psd_medianOrigin', 0.04802433680742979),\n",
       " ('C3-M2alpha_psd_medianOrigin', 0.047074249945580959),\n",
       " ('Chin1-Chin3_fftmean3', 0.046886520460247993),\n",
       " ('O1-M2_bstd5', 0.046792444307357073),\n",
       " ('Chin2-Chin3_dp_min4', 0.04616287536919117),\n",
       " ('C4-M1alpha_psd_minOrigin', 0.046151149552315474),\n",
       " ('C4-M1_bstd5', 0.046059087850153446),\n",
       " ('C4-M1alpha_psd_medianOrigin', 0.045835561119019985),\n",
       " ('O2-M1gamma_psd_medianOrigin', 0.045555106364190578),\n",
       " ('O1-M2Energyrelative12', 0.04507997864857316),\n",
       " ('C3-M2Energyrelative4Origin', 0.044617147417739034),\n",
       " ('E1-M2_amax5', 0.044511436717584729),\n",
       " ('O1-M2delta_psd_minOrigin', 0.044459467753767967),\n",
       " ('O2-M1Energyrelative54', 0.044421609723940492),\n",
       " ('E1-M2Energyratio2Origin', 0.04436753923073411),\n",
       " ('E1-M2delta_psd_medianOrigin', 0.044106499990448356),\n",
       " ('Chin2-Chin3_gamma_EnergyOrigin', 0.044050278607755899),\n",
       " ('F4-M1_kurtosis_14', 0.043849990703165531),\n",
       " ('ECG1-ECG2_gammamin3', 0.043728386517614126),\n",
       " ('O2-M1alpha_psd_minOrigin', 0.043710903730243444),\n",
       " ('O1-M2Energyrelative5Origin', 0.043343518162146211),\n",
       " ('Chin1-Chin3_bstd5', 0.043040657183155417),\n",
       " ('E1-M2Energyrelative4Origin', 0.042946628760546446),\n",
       " ('O1-M2Energyrelative42', 0.042922470718622208),\n",
       " ('Chin2-Chin3Energyrelative44', 0.042878215899690986),\n",
       " ('C4-M1Energyrelative5Origin', 0.042826991295441985),\n",
       " ('ECG1-ECG2_skewness_15', 0.042748023988679051),\n",
       " ('O1-M2_high_alpha_EnergyOrigin', 0.042519881622865796),\n",
       " ('E2-M2_skewness_14', 0.042458860902115703),\n",
       " ('Chin2-Chin3_deltamean0', 0.042226135032251477),\n",
       " ('F4-M1_thetamin5', 0.042127478867769241),\n",
       " ('ECG1-ECG2_max3', 0.042105556698516011),\n",
       " ('E2-M2Energyratio34', 0.042039224877953529),\n",
       " ('E2-M2_bstd5', 0.041962925344705582),\n",
       " ('F4-M1Energyrelative4Origin', 0.041837315307930112),\n",
       " ('F4-M1Energyrelative12', 0.041742923436686397),\n",
       " ('C4-M1_complexity_12', 0.041696263710036874),\n",
       " ('O2-M1Energyrelative53', 0.041620886884629726),\n",
       " ('RLeg1-RLeg2_complexity_14', 0.04161704727448523),\n",
       " ('F4-M1_kurtosis_11', 0.041587770916521549),\n",
       " ('O1-M2beta_psd_minOrigin', 0.041583301266655326),\n",
       " ('Snore_gammamin4', 0.04152494459412992),\n",
       " ('Chin1-Chin3gamma_psd_diff_minOrigin', 0.041362992720678449),\n",
       " ('C3-M2Energyratio25', 0.041339860996231437),\n",
       " ('C4-M1Energyrelative13', 0.041337541304528713),\n",
       " ('F3-M2gamma_psd_stdOrigin', 0.041302179219201207),\n",
       " ('C4-M1Energyrelative4Origin', 0.04120541294105351),\n",
       " ('Chin2-Chin3_dp_min5', 0.041073709726333618),\n",
       " ('E2-M2Energyratio2Origin', 0.040911778341978788),\n",
       " ('E1-M2beta_psd_minOrigin', 0.04086624551564455),\n",
       " ('ECG1-ECG2Energyratio30', 0.040863075526431203),\n",
       " ('E2-M2_kurtosis_15', 0.040773664135485888),\n",
       " ('RLeg1-RLeg2_fftmin5', 0.040729946456849575),\n",
       " ('E2-M2alpha_psd_medianOrigin', 0.040693714283406734),\n",
       " ('C3-M2_bstd5', 0.040632027899846435),\n",
       " ('O1-M2Energyrelative1Origin', 0.04054421535693109),\n",
       " ('Chin1-Chin3_fftmin4', 0.040521928109228611),\n",
       " ('C4-M1Energyrelative51', 0.040494919521734118),\n",
       " ('E1-M2Energyrelative2Origin', 0.040205752942711115),\n",
       " ('E2-M2_kurtosis_14', 0.040182273602113128),\n",
       " ('C4-M1Energyrelative54', 0.040097165619954467),\n",
       " ('O1-M2_gammamin1', 0.03999047726392746),\n",
       " ('Chin2-Chin3_fftmean3', 0.039957538712769747),\n",
       " ('E1-M2alpha_psd_medianOrigin', 0.039954388979822397),\n",
       " ('Chin2-Chin3_fftmin2', 0.039921077666804194),\n",
       " ('Snore_skewness_11', 0.039892877684906125),\n",
       " ('F4-M1_skewness_12', 0.039885582402348518),\n",
       " ('E1-M2_kurtosis_10', 0.039858209434896708),\n",
       " ('F4-M1delta_psd_minOrigin', 0.039719229796901345),\n",
       " ('F3-M2_gammamax4', 0.039702343288809061),\n",
       " ('E1-M2_skewness_14', 0.039688154356554151),\n",
       " ('O1-M2Energyrelative50', 0.039686101954430342),\n",
       " ('E1-M2_kurtosis_15', 0.039618340553715825),\n",
       " ('F4-M1Energyrelative32', 0.039497224381193519),\n",
       " ('C3-M2Energyratio2Origin', 0.039471009746193886),\n",
       " ('F4-M1_mean4_Gaussian_', 0.039442757610231638),\n",
       " ('F3-M2_kurtosis_14', 0.039436330553144217),\n",
       " ('Snore_min1', 0.03939386922866106),\n",
       " ('F3-M2_skewness_15', 0.039387525990605354),\n",
       " ('O2-M1Energyrelative4Origin', 0.039325868245214224),\n",
       " ('E2-M2_bmin5', 0.039321089629083872),\n",
       " ('ECG1-ECG2_amax5', 0.039235248463228345),\n",
       " ('C3-M2Energyrelative11', 0.039215450407937169),\n",
       " ('Chin1-Chin3_gammamin1', 0.039130918215960264),\n",
       " ('O2-M1Energyrelative42', 0.039035589434206486),\n",
       " ('F4-M1_theta_EnergyOrigin', 0.039033764041960239),\n",
       " ('LLeg1-LLeg2_complexity_11', 0.038991427049040794),\n",
       " ('F4-M1gamma_psd_medianOrigin', 0.038919150363653898),\n",
       " ('O2-M1Energyrelative33', 0.038842898095026612),\n",
       " ('F4-M1Energyratio34', 0.038737068884074688),\n",
       " ('E2-M2_high_alpha_EnergyOrigin', 0.038611178752034903),\n",
       " ('O2-M1_gammamin1', 0.038609280716627836),\n",
       " ('C4-M1_alphamean5', 0.038451992673799396),\n",
       " ('F3-M2Energyrelative4Origin', 0.038408213760703802),\n",
       " ('F4-M1_thetamean5', 0.038380959536880255),\n",
       " ('C4-M1Energyrelative11', 0.038328099995851517),\n",
       " ('Chin1-Chin3_activity_24', 0.038312671473249793),\n",
       " ('F4-M1_bmin5', 0.038247208809480071),\n",
       " ('O2-M1Energyrelative44', 0.038231368875131011),\n",
       " ('F4-M1gamma_psd_diff_stdOrigin', 0.038170392857864499),\n",
       " ('O1-M2Energyrelative52', 0.038149292347952724),\n",
       " ('E1-M2_deltamean4', 0.038105775834992528),\n",
       " ('E1-M2_bmin5', 0.038069591159000993),\n",
       " ('E1-M2gamma_psd_medianOrigin', 0.038023364264518023),\n",
       " ('F3-M2_skewness_12', 0.037980221211910248),\n",
       " ('E2-M2_deltamean4', 0.037975569255650043),\n",
       " ('C4-M1gamma_psd_stdOrigin', 0.037890457548201084),\n",
       " ('O1-M2gamma_psd_medianOrigin', 0.037813572678714991),\n",
       " ('Snore_complexity_15', 0.037671511992812157),\n",
       " ('C4-M1theta_psd_minOrigin', 0.037566958460956812),\n",
       " ('C4-M1Energyratio2Origin', 0.037534005241468549),\n",
       " ('Snore_fftmin4', 0.037454470992088318),\n",
       " ('F4-M1Energyrelative3Origin', 0.037319008028134704),\n",
       " ('ECG1-ECG2_skewness_13', 0.037294407840818167),\n",
       " ('Snore_complexity_11', 0.037247851956635714),\n",
       " ('ECG1-ECG2_thetamean4', 0.037241056095808744),\n",
       " ('E2-M2_kurtosis_10', 0.037204327993094921)]"
      ]
     },
     "execution_count": 16,
     "metadata": {},
     "output_type": "execute_result"
    }
   ],
   "source": [
    "im"
   ]
  },
  {
   "cell_type": "code",
   "execution_count": 17,
   "metadata": {
    "collapsed": true
   },
   "outputs": [],
   "source": [
    "for i in range(150):\n",
    "    im[i] = list(im[i])\n"
   ]
  },
  {
   "cell_type": "code",
   "execution_count": 18,
   "metadata": {
    "collapsed": false
   },
   "outputs": [],
   "source": [
    "im = np.array(im)"
   ]
  },
  {
   "cell_type": "code",
   "execution_count": 19,
   "metadata": {
    "collapsed": false
   },
   "outputs": [
    {
     "data": {
      "text/plain": [
       "array(['Chin1-Chin3beta_psd_minOrigin', '0.0743601466529'], \n",
       "      dtype='|S35')"
      ]
     },
     "execution_count": 19,
     "metadata": {},
     "output_type": "execute_result"
    }
   ],
   "source": [
    "im[0]"
   ]
  },
  {
   "cell_type": "code",
   "execution_count": 20,
   "metadata": {
    "collapsed": false
   },
   "outputs": [
    {
     "name": "stdout",
     "output_type": "stream",
     "text": [
      "ab.pkl\n",
      "(1045, 150)\n",
      "b1.pkl\n",
      "(938, 150)\n",
      "b2.pkl\n",
      "(1062, 150)\n",
      "byd.pkl\n",
      "(1018, 150)\n",
      "dxb.pkl\n",
      "(1011, 150)\n",
      "gyx.pkl\n",
      "(963, 150)\n",
      "hj.pkl\n",
      "(148, 150)\n",
      "hp.pkl\n",
      "(978, 150)\n",
      "ljx.pkl\n",
      "(953, 150)\n",
      "ljy.pkl\n",
      "(986, 150)\n",
      "qxj.pkl\n",
      "(1033, 150)\n",
      "shx.pkl\n",
      "(899, 150)\n",
      "sll.pkl\n",
      "(896, 150)\n",
      "szh.pkl\n",
      "(1025, 150)\n",
      "wcy.pkl\n",
      "(962, 150)\n",
      "wgp.pkl\n",
      "(132, 150)\n",
      "wj.pkl\n",
      "(1021, 150)\n",
      "wls.pkl\n",
      "(972, 150)\n",
      "wqq.pkl\n",
      "(1016, 150)\n",
      "wt.pkl\n",
      "(7, 150)\n",
      "wx.pkl\n",
      "(1017, 150)\n",
      "wzh.pkl\n",
      "(1056, 150)\n",
      "xlz.pkl\n",
      "(1162, 150)\n",
      "xsl.pkl\n",
      "(456, 150)\n",
      "xwj.pkl\n",
      "(1061, 150)\n",
      "ycl.pkl\n",
      "(920, 150)\n",
      "zgy.pkl\n",
      "(894, 150)\n",
      "zhp.pkl\n",
      "(918, 150)\n",
      "zym.pkl\n",
      "(887, 150)\n"
     ]
    }
   ],
   "source": [
    "filepath=unicode('/mnt/nas/eeg/processed_data_psd/','utf8')\n",
    "for i in range(len(fileName)):\n",
    "\n",
    "    f = fileName[i]\n",
    "    print f\n",
    "    data = pd.read_pickle(filepath+f)\n",
    "    train = data[data.label != '?']\n",
    "    data = train[im[:,0]]\n",
    "    print data.shape\n",
    "    data.to_pickle('/mnt/nas/eeg/processed_data_150_psd/'+fileName[i])"
   ]
  },
  {
   "cell_type": "code",
   "execution_count": null,
   "metadata": {
    "collapsed": true
   },
   "outputs": [],
   "source": [
    "10folds:\n",
    "0.797356084682, data16\n",
    "model = XGBClassifier(\n",
    "\tlearning_rate = 0.008,\n",
    "\tn_estimators = 2000,\n",
    "\tmax_depth = 6,\n",
    "\tmin_child_weight = 1,\n",
    "\tgamma = 2,\n",
    "\tsubsample = 0.7,\n",
    "\treg_lambda = 0.5,\n",
    "\tcolsample_bytree = 0.8,\n",
    "\tobjective = 'multi:softmax',\n",
    "\tnthread = -1,\n",
    "\tsilent = False,\n",
    "\tseed = 1)"
   ]
  },
  {
   "cell_type": "code",
   "execution_count": null,
   "metadata": {
    "collapsed": true
   },
   "outputs": [],
   "source": [
    "10folds:\n",
    "0.793118169349, processed_data15_seperate_energy\n",
    "model = XGBClassifier(\n",
    "\tlearning_rate = 0.008,\n",
    "\tn_estimators = 2000,\n",
    "\tmax_depth = 6,\n",
    "\tmin_child_weight = 1,\n",
    "\tgamma = 2,\n",
    "\tsubsample = 0.7,\n",
    "\treg_lambda = 0.3,\n",
    "\tcolsample_bytree = 0.8,\n",
    "\tobjective = 'multi:softmax',\n",
    "\tnthread = -1,\n",
    "\tsilent = False,\n",
    "\tseed = 1)"
   ]
  },
  {
   "cell_type": "code",
   "execution_count": null,
   "metadata": {
    "collapsed": true
   },
   "outputs": [],
   "source": [
    "0.782005495086, data12\n",
    "model = XGBClassifier(\n",
    "\tlearning_rate = 0.01,\n",
    "\tn_estimators = 2000,\n",
    "\tmax_depth = 4,\n",
    "\tmin_child_weight = 1,\n",
    "\tgamma = 2,\n",
    "\tsubsample = 0.7,\n",
    "\treg_lambda = 0.4,\n",
    "\tcolsample_bytree = 0.8,\n",
    "\tobjective = 'multi:softmax',\n",
    "#     objective = 'binary:logistic',\n",
    "\tnthread = -1,\n",
    "\tsilent = False,\n",
    "\tseed = 1)"
   ]
  }
 ],
 "metadata": {
  "kernelspec": {
   "display_name": "Python 2",
   "language": "python",
   "name": "python2"
  },
  "language_info": {
   "codemirror_mode": {
    "name": "ipython",
    "version": 2
   },
   "file_extension": ".py",
   "mimetype": "text/x-python",
   "name": "python",
   "nbconvert_exporter": "python",
   "pygments_lexer": "ipython2",
   "version": "2.7.13"
  }
 },
 "nbformat": 4,
 "nbformat_minor": 2
}
