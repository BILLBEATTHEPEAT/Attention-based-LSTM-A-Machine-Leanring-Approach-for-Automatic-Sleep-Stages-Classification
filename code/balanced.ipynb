{
 "cells": [
  {
   "cell_type": "code",
   "execution_count": 1,
   "metadata": {
    "ExecuteTime": {
     "end_time": "2018-01-12T17:04:00.431382Z",
     "start_time": "2018-01-12T17:03:59.681501Z"
    },
    "collapsed": false
   },
   "outputs": [
    {
     "name": "stderr",
     "output_type": "stream",
     "text": [
      "/home/centos/anaconda2/lib/python2.7/site-packages/sklearn/cross_validation.py:44: DeprecationWarning: This module was deprecated in version 0.18 in favor of the model_selection module into which all the refactored classes and functions are moved. Also note that the interface of the new CV iterators are different from that of this module. This module will be removed in 0.20.\n",
      "  \"This module will be removed in 0.20.\", DeprecationWarning)\n"
     ]
    }
   ],
   "source": [
    "import numpy as np\n",
    "import pandas as pd\n",
    "import xgboost as xgb\n",
    "from xgboost.sklearn import XGBClassifier\n",
    "from sklearn.cross_validation import train_test_split\n",
    "from sklearn.model_selection import KFold\n",
    "from sklearn.utils import shuffle"
   ]
  },
  {
   "cell_type": "code",
   "execution_count": 2,
   "metadata": {
    "ExecuteTime": {
     "end_time": "2018-01-12T17:04:01.303091Z",
     "start_time": "2018-01-12T17:04:01.257177Z"
    },
    "collapsed": false
   },
   "outputs": [
    {
     "name": "stdout",
     "output_type": "stream",
     "text": [
      "/mnt/nas/eeg/processed_data_Dream/\n"
     ]
    },
    {
     "data": {
      "text/plain": [
       "20"
      ]
     },
     "execution_count": 2,
     "metadata": {},
     "output_type": "execute_result"
    }
   ],
   "source": [
    "filepath=unicode('/mnt/nas/eeg/processed_data_singal_EEG/','utf8')\n",
    "print filepath\n",
    "import os\n",
    "fileName = sorted(os.listdir(filepath))\n",
    "len(fileName)"
   ]
  },
  {
   "cell_type": "code",
   "execution_count": 3,
   "metadata": {
    "ExecuteTime": {
     "end_time": "2018-01-12T17:04:02.581063Z",
     "start_time": "2018-01-12T17:04:02.575509Z"
    },
    "collapsed": false
   },
   "outputs": [
    {
     "name": "stdout",
     "output_type": "stream",
     "text": [
      "subject8.pkl\n"
     ]
    }
   ],
   "source": [
    "print fileName[18]"
   ]
  },
  {
   "cell_type": "code",
   "execution_count": 4,
   "metadata": {
    "ExecuteTime": {
     "end_time": "2018-01-12T17:04:05.265519Z",
     "start_time": "2018-01-12T17:04:05.160370Z"
    },
    "collapsed": true
   },
   "outputs": [],
   "source": [
    "def encode1(label):\n",
    "    for i in range(label.shape[0]):\n",
    "        if label[i] == \"W\":\n",
    "            label[i] = 0\n",
    "        elif label[i] == \"N1\":\n",
    "            label[i] = 1\n",
    "        elif label[i] == \"N2\":\n",
    "            label[i] = 1\n",
    "        elif label[i] == \"N3\":\n",
    "            label[i] = 1\n",
    "        elif label[i] == \"R\":\n",
    "            label[i] = 0\n",
    "    return label\n",
    "def encode2(label):\n",
    "    for i in range(label.shape[0]):\n",
    "        if label[i] == \"W\":\n",
    "            label[i] = 0\n",
    "        elif label[i] == \"N1\":\n",
    "            label[i] = 1\n",
    "        elif label[i] == \"N2\":\n",
    "            label[i] = 2\n",
    "        elif label[i] == \"N3\":\n",
    "            label[i] = 3\n",
    "        elif label[i] == \"R\":\n",
    "            label[i] = 0\n",
    "    return label\n",
    "def encode3(label):\n",
    "    for i in range(label.shape[0]):\n",
    "        if label[i] == \"W\":\n",
    "            label[i] = 0\n",
    "        elif label[i] == \"N1\":\n",
    "            label[i] = 1\n",
    "        elif label[i] == \"N2\":\n",
    "            label[i] = 2\n",
    "        elif label[i] == \"N3\":\n",
    "            label[i] = 3\n",
    "        elif label[i] == \"R\":\n",
    "            label[i] = 0\n",
    "    return label\n",
    "def encode4(label):\n",
    "    for i in range(label.shape[0]):\n",
    "        if label[i] == \"W\":\n",
    "            label[i] = 0\n",
    "        elif label[i] == \"N1\":\n",
    "            label[i] = 1\n",
    "        elif label[i] == \"N2\":\n",
    "            label[i] = 2\n",
    "        elif label[i] == \"N3\":\n",
    "            label[i] = 3\n",
    "        elif label[i] == \"R\":\n",
    "            label[i] = 4\n",
    "    return label\n",
    "def balance_label(label_train,num_W,num_N1,num_N2,num_N3,num_R):\n",
    "    w_W = (num_N1+num_N2+num_N3+num_R)*1.0 / (num_W+num_N1+num_N2+num_N3+num_R)\n",
    "    w_N1 = 2 + (num_W+num_N2+num_N3+num_R)*1.0 / (num_W+num_N1+num_N2+num_N3+num_R)\n",
    "    w_N2 = 2 + (num_W+num_N1+num_N3+num_R)*1.0 / (num_W+num_N1+num_N2+num_N3+num_R)\n",
    "    w_N3 = 2 + (num_W+num_N1+num_N2+num_R)*1.0 / (num_W+num_N1+num_N2+num_N3+num_R)\n",
    "    w_R = (num_W+num_N1+num_N2+num_N3)*1.0 / (num_W+num_N1+num_N2+num_N3+num_R)\n",
    "    print w_W, w_N1,w_N2,w_N3,w_R\n",
    "    weight = np.ones(label_train.shape[0])\n",
    "    for i in range(label_train.shape[0]):\n",
    "        if 0 == label_train[i]:\n",
    "            weight[i] = w_W\n",
    "        elif 1 == label_train[i]:\n",
    "            weight[i] = w_N1\n",
    "        elif 2 == label_train[i]:\n",
    "            weight[i] = w_N2\n",
    "        elif 3 == label_train[i]:\n",
    "            weight[i] = w_N3\n",
    "        elif 4 == label_train[i]:\n",
    "            weight[i] = w_R\n",
    "    return weight"
   ]
  },
  {
   "cell_type": "code",
   "execution_count": 5,
   "metadata": {
    "ExecuteTime": {
     "end_time": "2018-01-12T17:04:07.720085Z",
     "start_time": "2018-01-12T17:04:07.703795Z"
    },
    "collapsed": false
   },
   "outputs": [
    {
     "name": "stdout",
     "output_type": "stream",
     "text": [
      "('TRAIN:', array([ 0,  1,  4,  5,  6,  7,  8,  9, 10, 11, 12, 15, 16, 17, 18, 19]), 'TEST:', array([ 2,  3, 13, 14]))\n",
      "('TRAIN:', array([ 0,  2,  3,  4,  6,  7,  9, 10, 11, 13, 14, 15, 16, 17, 18, 19]), 'TEST:', array([ 1,  5,  8, 12]))\n",
      "('TRAIN:', array([ 0,  1,  2,  3,  5,  6,  8,  9, 12, 13, 14, 15, 16, 17, 18, 19]), 'TEST:', array([ 4,  7, 10, 11]))\n",
      "('TRAIN:', array([ 1,  2,  3,  4,  5,  6,  7,  8, 10, 11, 12, 13, 14, 15, 17, 19]), 'TEST:', array([ 0,  9, 16, 18]))\n",
      "('TRAIN:', array([ 0,  1,  2,  3,  4,  5,  7,  8,  9, 10, 11, 12, 13, 14, 16, 18]), 'TEST:', array([ 6, 15, 17, 19]))\n"
     ]
    }
   ],
   "source": [
    "n_splits = 5\n",
    "kf = KFold(n_splits=n_splits, random_state=17, shuffle=True)\n",
    "for train_index, test_index in kf.split(fileName):\n",
    "    print(\"TRAIN:\", train_index, \"TEST:\", test_index)"
   ]
  },
  {
   "cell_type": "code",
   "execution_count": 8,
   "metadata": {
    "ExecuteTime": {
     "end_time": "2017-12-08T16:05:43.874054Z",
     "start_time": "2017-12-08T13:57:51.160377Z"
    },
    "collapsed": false,
    "scrolled": false
   },
   "outputs": [
    {
     "name": "stdout",
     "output_type": "stream",
     "text": [
      "(17456, 3954) (1940, 3954) (17456,) (1940,)\n",
      "0.745531622365 2.81679651696 2.65725252062 2.89900320807 0.881416131989\n",
      "4 4\n",
      "trianing the model\n",
      "[0]\ttrain-merror:0.285954\ttest-merror:0.335567\n",
      "[300]\ttrain-merror:0.196821\ttest-merror:0.258763\n",
      "[600]\ttrain-merror:0.171557\ttest-merror:0.224742\n",
      "[900]\ttrain-merror:0.151419\ttest-merror:0.202062\n",
      "[1200]\ttrain-merror:0.136558\ttest-merror:0.186598\n",
      "[1500]\ttrain-merror:0.122485\ttest-merror:0.183505\n",
      "[1800]\ttrain-merror:0.109891\ttest-merror:0.176289\n",
      "[2100]\ttrain-merror:0.098688\ttest-merror:0.175258\n",
      "[2400]\ttrain-merror:0.088567\ttest-merror:0.174227\n",
      "[2700]\ttrain-merror:0.078665\ttest-merror:0.170619\n",
      "[3000]\ttrain-merror:0.068634\ttest-merror:0.169072\n",
      "[3300]\ttrain-merror:0.061018\ttest-merror:0.165464\n",
      "[3600]\ttrain-merror:0.054084\ttest-merror:0.164433\n",
      "[3900]\ttrain-merror:0.048258\ttest-merror:0.163918\n",
      "[4200]\ttrain-merror:0.04087\ttest-merror:0.164948\n",
      "[4500]\ttrain-merror:0.036057\ttest-merror:0.164948\n",
      "[4800]\ttrain-merror:0.030927\ttest-merror:0.163402\n",
      "[5100]\ttrain-merror:0.02652\ttest-merror:0.163402\n",
      "[5400]\ttrain-merror:0.0223\ttest-merror:0.161856\n",
      "[5700]\ttrain-merror:0.019388\ttest-merror:0.160309\n",
      "[6000]\ttrain-merror:0.016441\ttest-merror:0.161856\n",
      "[6300]\ttrain-merror:0.013393\ttest-merror:0.161856\n",
      "[6600]\ttrain-merror:0.010588\ttest-merror:0.160309\n",
      "[6900]\ttrain-merror:0.008294\ttest-merror:0.160825\n",
      "[7200]\ttrain-merror:0.006614\ttest-merror:0.159794\n",
      "[7500]\ttrain-merror:0.005239\ttest-merror:0.157216\n",
      "[7800]\ttrain-merror:0.004234\ttest-merror:0.158247\n",
      "[8100]\ttrain-merror:0.003299\ttest-merror:0.157732\n",
      "[8400]\ttrain-merror:0.002406\ttest-merror:0.156186\n",
      "[8700]\ttrain-merror:0.002175\ttest-merror:0.15567\n",
      "[9000]\ttrain-merror:0.001581\ttest-merror:0.154124\n",
      "[9300]\ttrain-merror:0.001313\ttest-merror:0.155155\n",
      "[9600]\ttrain-merror:0.001018\ttest-merror:0.154639\n",
      "[9900]\ttrain-merror:0.000753\ttest-merror:0.154124\n",
      "0.720364238411\n",
      "(18971, 3954) (2108, 3954) (18971,) (2108,)\n",
      "0.775130462285 2.83685625428 2.66643824785 2.85235359233 0.869221443255\n",
      "4 4\n",
      "trianing the model\n",
      "[0]\ttrain-merror:0.273118\ttest-merror:0.345825\n",
      "[300]\ttrain-merror:0.210986\ttest-merror:0.279886\n",
      "[600]\ttrain-merror:0.178433\ttest-merror:0.246205\n",
      "[900]\ttrain-merror:0.158111\ttest-merror:0.214896\n",
      "[1200]\ttrain-merror:0.141773\ttest-merror:0.20019\n",
      "[1500]\ttrain-merror:0.12739\ttest-merror:0.192125\n",
      "[1800]\ttrain-merror:0.115764\ttest-merror:0.186907\n",
      "[2100]\ttrain-merror:0.105819\ttest-merror:0.179317\n",
      "[2400]\ttrain-merror:0.096996\ttest-merror:0.175996\n",
      "[2700]\ttrain-merror:0.086909\ttest-merror:0.172676\n",
      "[3000]\ttrain-merror:0.077361\ttest-merror:0.169829\n",
      "[3300]\ttrain-merror:0.068846\ttest-merror:0.16888\n",
      "[3600]\ttrain-merror:0.061019\ttest-merror:0.16888\n",
      "[3900]\ttrain-merror:0.05384\ttest-merror:0.166983\n",
      "[4200]\ttrain-merror:0.047736\ttest-merror:0.166034\n",
      "[4500]\ttrain-merror:0.041917\ttest-merror:0.166034\n",
      "[4800]\ttrain-merror:0.036704\ttest-merror:0.164611\n",
      "[5100]\ttrain-merror:0.031898\ttest-merror:0.166034\n",
      "[5400]\ttrain-merror:0.027816\ttest-merror:0.164611\n",
      "[5700]\ttrain-merror:0.02296\ttest-merror:0.164137\n",
      "[6000]\ttrain-merror:0.019156\ttest-merror:0.164137\n",
      "[6300]\ttrain-merror:0.016073\ttest-merror:0.162713\n",
      "[6600]\ttrain-merror:0.013483\ttest-merror:0.163662\n",
      "[6900]\ttrain-merror:0.01128\ttest-merror:0.164137\n",
      "[7200]\ttrain-merror:0.00966\ttest-merror:0.163188\n",
      "[7500]\ttrain-merror:0.00835\ttest-merror:0.163662\n",
      "[7800]\ttrain-merror:0.006964\ttest-merror:0.16129\n",
      "[8100]\ttrain-merror:0.005339\ttest-merror:0.163188\n",
      "[8400]\ttrain-merror:0.004555\ttest-merror:0.16129\n",
      "[8700]\ttrain-merror:0.003607\ttest-merror:0.16129\n",
      "[9000]\ttrain-merror:0.002991\ttest-merror:0.160816\n",
      "[9300]\ttrain-merror:0.002313\ttest-merror:0.160816\n",
      "[9600]\ttrain-merror:0.001825\ttest-merror:0.160342\n",
      "[9900]\ttrain-merror:0.001341\ttest-merror:0.160816\n",
      "0.821436768419\n",
      "(17681, 3954) (1965, 3954) (17681,) (1965,)\n",
      "0.749731350037 2.84723714722 2.67015440303 2.85221424128 0.880662858436\n",
      "4 4\n",
      "trianing the model\n",
      "[0]\ttrain-merror:0.270265\ttest-merror:0.341476\n",
      "[300]\ttrain-merror:0.186433\ttest-merror:0.24173\n",
      "[600]\ttrain-merror:0.156431\ttest-merror:0.210178\n",
      "[900]\ttrain-merror:0.138127\ttest-merror:0.189822\n",
      "[1200]\ttrain-merror:0.121775\ttest-merror:0.174046\n",
      "[1500]\ttrain-merror:0.111085\ttest-merror:0.166412\n",
      "[1800]\ttrain-merror:0.09843\ttest-merror:0.160814\n",
      "[2100]\ttrain-merror:0.087378\ttest-merror:0.159288\n",
      "[2400]\ttrain-merror:0.077434\ttest-merror:0.15827\n",
      "[2700]\ttrain-merror:0.069185\ttest-merror:0.15369\n",
      "[3000]\ttrain-merror:0.060149\ttest-merror:0.152163\n",
      "[3300]\ttrain-merror:0.051302\ttest-merror:0.150127\n",
      "[3600]\ttrain-merror:0.044558\ttest-merror:0.148092\n",
      "[3900]\ttrain-merror:0.038757\ttest-merror:0.146056\n",
      "[4200]\ttrain-merror:0.033686\ttest-merror:0.145038\n",
      "[4500]\ttrain-merror:0.0286\ttest-merror:0.14402\n",
      "[4800]\ttrain-merror:0.024548\ttest-merror:0.145038\n",
      "[5100]\ttrain-merror:0.019823\ttest-merror:0.145038\n",
      "[5400]\ttrain-merror:0.016384\ttest-merror:0.146056\n",
      "[5700]\ttrain-merror:0.012583\ttest-merror:0.142494\n",
      "[6000]\ttrain-merror:0.009644\ttest-merror:0.140458\n",
      "[6300]\ttrain-merror:0.007619\ttest-merror:0.141476\n",
      "[6600]\ttrain-merror:0.006062\ttest-merror:0.141985\n",
      "[6900]\ttrain-merror:0.004811\ttest-merror:0.140458\n",
      "[7200]\ttrain-merror:0.003804\ttest-merror:0.140967\n",
      "[7500]\ttrain-merror:0.00299\ttest-merror:0.139949\n",
      "[7800]\ttrain-merror:0.002345\ttest-merror:0.140967\n",
      "[8100]\ttrain-merror:0.001495\ttest-merror:0.140458\n",
      "[8400]\ttrain-merror:0.001102\ttest-merror:0.138931\n",
      "[8700]\ttrain-merror:0.000794\ttest-merror:0.139949\n",
      "[9000]\ttrain-merror:0.000623\ttest-merror:0.138931\n",
      "[9300]\ttrain-merror:0.000504\ttest-merror:0.138931\n",
      "[9600]\ttrain-merror:0.000382\ttest-merror:0.138931\n",
      "[9900]\ttrain-merror:0.000283\ttest-merror:0.138422\n",
      "0.728670120898\n",
      "(17539, 3954) (1949, 3954) (17539,) (1949,)\n",
      "0.801756086436 2.83864530475 2.6445635441 2.84788186328 0.867153201437\n",
      "4 4\n",
      "trianing the model\n",
      "[0]\ttrain-merror:0.261396\ttest-merror:0.344792\n",
      "[300]\ttrain-merror:0.195615\ttest-merror:0.283735\n",
      "[600]\ttrain-merror:0.167848\ttest-merror:0.247306\n",
      "[900]\ttrain-merror:0.148172\ttest-merror:0.2196\n",
      "[1200]\ttrain-merror:0.133675\ttest-merror:0.207799\n",
      "[1500]\ttrain-merror:0.122159\ttest-merror:0.200616\n",
      "[1800]\ttrain-merror:0.110549\ttest-merror:0.190354\n",
      "[2100]\ttrain-merror:0.100721\ttest-merror:0.188302\n",
      "[2400]\ttrain-merror:0.090836\ttest-merror:0.184197\n",
      "[2700]\ttrain-merror:0.080846\ttest-merror:0.181119\n",
      "[3000]\ttrain-merror:0.071964\ttest-merror:0.178553\n",
      "[3300]\ttrain-merror:0.063812\ttest-merror:0.17804\n",
      "[3600]\ttrain-merror:0.055397\ttest-merror:0.174448\n",
      "[3900]\ttrain-merror:0.049548\ttest-merror:0.173422\n",
      "[4200]\ttrain-merror:0.042402\ttest-merror:0.172909\n"
     ]
    },
    {
     "ename": "KeyboardInterrupt",
     "evalue": "",
     "output_type": "error",
     "traceback": [
      "\u001b[0;31m---------------------------------------------------------------------------\u001b[0m",
      "\u001b[0;31mKeyboardInterrupt\u001b[0m                         Traceback (most recent call last)",
      "\u001b[0;32m<ipython-input-8-4088b5d9c199>\u001b[0m in \u001b[0;36m<module>\u001b[0;34m()\u001b[0m\n\u001b[1;32m    104\u001b[0m \u001b[0;34m\u001b[0m\u001b[0m\n\u001b[1;32m    105\u001b[0m     \u001b[0;32mprint\u001b[0m \u001b[0;34m\"trianing the model\"\u001b[0m\u001b[0;34m\u001b[0m\u001b[0m\n\u001b[0;32m--> 106\u001b[0;31m     \u001b[0mmodel\u001b[0m \u001b[0;34m=\u001b[0m \u001b[0mxgb\u001b[0m\u001b[0;34m.\u001b[0m\u001b[0mtrain\u001b[0m\u001b[0;34m(\u001b[0m\u001b[0mparam\u001b[0m\u001b[0;34m,\u001b[0m \u001b[0mxg_train\u001b[0m\u001b[0;34m,\u001b[0m \u001b[0mnum_round\u001b[0m\u001b[0;34m,\u001b[0m \u001b[0mwatchlist\u001b[0m\u001b[0;34m,\u001b[0m \u001b[0mverbose_eval\u001b[0m\u001b[0;34m=\u001b[0m\u001b[0;36m300\u001b[0m\u001b[0;34m)\u001b[0m\u001b[0;31m#, early_stopping_rounds = 1000, verbose_eval=300)\u001b[0m\u001b[0;34m\u001b[0m\u001b[0m\n\u001b[0m\u001b[1;32m    107\u001b[0m     \u001b[0mpred\u001b[0m \u001b[0;34m=\u001b[0m \u001b[0mmodel\u001b[0m\u001b[0;34m.\u001b[0m\u001b[0mpredict\u001b[0m\u001b[0;34m(\u001b[0m\u001b[0mxg_test\u001b[0m\u001b[0;34m)\u001b[0m\u001b[0;34m\u001b[0m\u001b[0m\n\u001b[1;32m    108\u001b[0m \u001b[0;34m\u001b[0m\u001b[0m\n",
      "\u001b[0;32m/home/centos/anaconda2/lib/python2.7/site-packages/xgboost/training.pyc\u001b[0m in \u001b[0;36mtrain\u001b[0;34m(params, dtrain, num_boost_round, evals, obj, feval, maximize, early_stopping_rounds, evals_result, verbose_eval, learning_rates, xgb_model, callbacks)\u001b[0m\n\u001b[1;32m    203\u001b[0m                            \u001b[0mevals\u001b[0m\u001b[0;34m=\u001b[0m\u001b[0mevals\u001b[0m\u001b[0;34m,\u001b[0m\u001b[0;34m\u001b[0m\u001b[0m\n\u001b[1;32m    204\u001b[0m                            \u001b[0mobj\u001b[0m\u001b[0;34m=\u001b[0m\u001b[0mobj\u001b[0m\u001b[0;34m,\u001b[0m \u001b[0mfeval\u001b[0m\u001b[0;34m=\u001b[0m\u001b[0mfeval\u001b[0m\u001b[0;34m,\u001b[0m\u001b[0;34m\u001b[0m\u001b[0m\n\u001b[0;32m--> 205\u001b[0;31m                            xgb_model=xgb_model, callbacks=callbacks)\n\u001b[0m\u001b[1;32m    206\u001b[0m \u001b[0;34m\u001b[0m\u001b[0m\n\u001b[1;32m    207\u001b[0m \u001b[0;34m\u001b[0m\u001b[0m\n",
      "\u001b[0;32m/home/centos/anaconda2/lib/python2.7/site-packages/xgboost/training.pyc\u001b[0m in \u001b[0;36m_train_internal\u001b[0;34m(params, dtrain, num_boost_round, evals, obj, feval, xgb_model, callbacks)\u001b[0m\n\u001b[1;32m     84\u001b[0m         \u001b[0;31m# check evaluation result.\u001b[0m\u001b[0;34m\u001b[0m\u001b[0;34m\u001b[0m\u001b[0m\n\u001b[1;32m     85\u001b[0m         \u001b[0;32mif\u001b[0m \u001b[0mlen\u001b[0m\u001b[0;34m(\u001b[0m\u001b[0mevals\u001b[0m\u001b[0;34m)\u001b[0m \u001b[0;34m!=\u001b[0m \u001b[0;36m0\u001b[0m\u001b[0;34m:\u001b[0m\u001b[0;34m\u001b[0m\u001b[0m\n\u001b[0;32m---> 86\u001b[0;31m             \u001b[0mbst_eval_set\u001b[0m \u001b[0;34m=\u001b[0m \u001b[0mbst\u001b[0m\u001b[0;34m.\u001b[0m\u001b[0meval_set\u001b[0m\u001b[0;34m(\u001b[0m\u001b[0mevals\u001b[0m\u001b[0;34m,\u001b[0m \u001b[0mi\u001b[0m\u001b[0;34m,\u001b[0m \u001b[0mfeval\u001b[0m\u001b[0;34m)\u001b[0m\u001b[0;34m\u001b[0m\u001b[0m\n\u001b[0m\u001b[1;32m     87\u001b[0m             \u001b[0;32mif\u001b[0m \u001b[0misinstance\u001b[0m\u001b[0;34m(\u001b[0m\u001b[0mbst_eval_set\u001b[0m\u001b[0;34m,\u001b[0m \u001b[0mSTRING_TYPES\u001b[0m\u001b[0;34m)\u001b[0m\u001b[0;34m:\u001b[0m\u001b[0;34m\u001b[0m\u001b[0m\n\u001b[1;32m     88\u001b[0m                 \u001b[0mmsg\u001b[0m \u001b[0;34m=\u001b[0m \u001b[0mbst_eval_set\u001b[0m\u001b[0;34m\u001b[0m\u001b[0m\n",
      "\u001b[0;32m/home/centos/anaconda2/lib/python2.7/site-packages/xgboost/core.pyc\u001b[0m in \u001b[0;36meval_set\u001b[0;34m(self, evals, iteration, feval)\u001b[0m\n\u001b[1;32m    865\u001b[0m             _check_call(_LIB.XGBoosterEvalOneIter(self.handle, iteration,\n\u001b[1;32m    866\u001b[0m                                                   \u001b[0mdmats\u001b[0m\u001b[0;34m,\u001b[0m \u001b[0mevnames\u001b[0m\u001b[0;34m,\u001b[0m \u001b[0mlen\u001b[0m\u001b[0;34m(\u001b[0m\u001b[0mevals\u001b[0m\u001b[0;34m)\u001b[0m\u001b[0;34m,\u001b[0m\u001b[0;34m\u001b[0m\u001b[0m\n\u001b[0;32m--> 867\u001b[0;31m                                                   ctypes.byref(msg)))\n\u001b[0m\u001b[1;32m    868\u001b[0m             \u001b[0;32mreturn\u001b[0m \u001b[0mmsg\u001b[0m\u001b[0;34m.\u001b[0m\u001b[0mvalue\u001b[0m\u001b[0;34m\u001b[0m\u001b[0m\n\u001b[1;32m    869\u001b[0m         \u001b[0;32melse\u001b[0m\u001b[0;34m:\u001b[0m\u001b[0;34m\u001b[0m\u001b[0m\n",
      "\u001b[0;31mKeyboardInterrupt\u001b[0m: "
     ]
    }
   ],
   "source": [
    "acc_final = 0\n",
    "filepath1=unicode('/mnt/nas/eeg/processed_data/','utf8')\n",
    "for train_index, test_index in kf.split(fileName):\n",
    "    \n",
    "    trainArr = np.array([])\n",
    "    testArr = np.array([])\n",
    "    for i in train_index:\n",
    "        f = fileName[i]\n",
    "#         print f\n",
    "        data = pd.read_pickle(filepath+f)\n",
    "#         label = pd.read_pickle(filepath1+f).label\n",
    "#         data = data.join(label)\n",
    "        train = data[data.label != '?']\n",
    "        train = np.array(train)\n",
    "        trainArr = np.append(trainArr, train)\n",
    "    for i in test_index:\n",
    "        f = fileName[i]\n",
    "        #print f\n",
    "        data = pd.read_pickle(filepath+f)\n",
    "#         label = pd.read_pickle(filepath1+f).label\n",
    "#         data = data.join(label)\n",
    "        test = data[data.label != '?']\n",
    "        test = np.array(test)\n",
    "        testArr = np.append(testArr, test)\n",
    "        \n",
    "    trainArr = trainArr.reshape(-1, 3955)\n",
    "    testArr = testArr.reshape(-1, 3955)\n",
    "    label_train = trainArr[::,-1]\n",
    "    label_test = testArr[::,-1]\n",
    "#     print label_train, label_test, label_eva\n",
    "    train = trainArr[::,:3954] \n",
    "#     temp = np.concatenate([train,train],axis=1)\n",
    "#     temp = np.concatenate([temp,train],axis=1)\n",
    "#     temp = np.concatenate([temp,train],axis=1)\n",
    "#     temp[:-1,250:500] = train[:-1,::] - train[1:,::]\n",
    "#     temp[1:,500:750] = train[1:,::] - train[:-1,::]\n",
    "#     temp[2:,750:] = train[2:,::] - train[:-2,::]\n",
    "#     train = temp\n",
    "#     del temp\n",
    "    \n",
    "    test = testArr[::,:3954]\n",
    "#     temp = np.concatenate([test,test],axis=1)\n",
    "#     temp = np.concatenate([temp,test],axis=1)\n",
    "# #     temp = np.concatenate([temp,test],axis=1)\n",
    "#     temp[:-1,250:500] = test[:-1,::] - test[1:,::]\n",
    "#     temp[1:,500:750] = test[1:,::] - test[:-1,::]\n",
    "# #     temp[2:,750:] = test[2:,::] - test[:-2,::]\n",
    "#     test = temp\n",
    "#     del temp\n",
    "    \n",
    "    \n",
    "    N_train = encode4(label_train)\n",
    "    N_test = encode4(label_test)\n",
    "\n",
    "    \n",
    "#     train = train[np.where(N_train != 0)]\n",
    "#     test = test[np.where(N_test != 0)]\n",
    "#     label_train = label_train[np.where(N_train != 0)]\n",
    "#     label_test = label_test[np.where(N_test != 0)]\n",
    "    \n",
    "#     X_train = train\n",
    "#     X_eval = eva\n",
    "#     Y_train = label_train\n",
    "#     Y_eval = label_eva\n",
    "    X_train, X_eval, Y_train, Y_eval = train_test_split(\n",
    "                            train, label_train, test_size=0.1)\n",
    "    print X_train.shape, X_eval.shape, Y_train.shape, Y_eval.shape\n",
    "    \n",
    "    num_W = np.where(0 == Y_train)[0].shape[0]\n",
    "    num_N1 = np.where(1 == Y_train)[0].shape[0]\n",
    "    num_N2 = np.where(2 == Y_train)[0].shape[0]\n",
    "    num_N3 = np.where(3 == Y_train)[0].shape[0]\n",
    "    num_R = np.where(4 == Y_train)[0].shape[0]\n",
    "#     num_0 = np.where(0 == Y_train)[0].shape[0]\n",
    "#     num_1 = np.where(1 == Y_train)[0].shape[0]\n",
    "    \n",
    "    \n",
    "    w = balance_label(Y_train,num_W,num_N1,num_N2,num_N3,num_R)\n",
    "#     w = balance_label(label_train,num_0,num_1)\n",
    "    print Y_train.max(), Y_eval.max()\n",
    "    xg_train = xgb.DMatrix(X_train, label = Y_train, weight = w)\n",
    "    xg_eval = xgb.DMatrix(X_eval, label = Y_eval)\n",
    "    xg_test = xgb.DMatrix(test)\n",
    "    param = {\n",
    "        'eta' : 0.008,\n",
    "        'max_depth' : 3,\n",
    "        'min_child_weight' : 1,\n",
    "        'gamma' : 0.5,\n",
    "        'subsample' : 0.3,\n",
    "        'lambda' : 1,\n",
    "        'colsample_bytree' : 0.3,\n",
    "        'objective' : 'multi:softmax',\n",
    "        'num_class' : 5,\n",
    "#         'nthread' : -1,\n",
    "        'silent' : False,\n",
    "        'seed' : 1\n",
    "    }\n",
    "    watchlist = [(xg_train, 'train'),(xg_eval, 'test')]\n",
    "    num_round = 10000\n",
    "#     Y_train = encode2(Y_train)\n",
    "#     Y_eval = encode2(Y_eval)\n",
    "#     label_test = encode2(label_test)\n",
    "    \n",
    "    \n",
    "    print \"trianing the model\"\n",
    "    model = xgb.train(param, xg_train, num_round, watchlist, verbose_eval=300)#, early_stopping_rounds = 1000, verbose_eval=300)\n",
    "    pred = model.predict(xg_test)\n",
    "\n",
    "    del model\n",
    "    acc = pred == label_test\n",
    "    acc = acc.sum()*1.0 / acc.shape[0]\n",
    "    print acc\n",
    "    \n",
    "    acc_final += acc\n",
    "print acc_final / n_splits"
   ]
  },
  {
   "cell_type": "code",
   "execution_count": 8,
   "metadata": {
    "collapsed": false
   },
   "outputs": [
    {
     "ename": "NameError",
     "evalue": "name 'model' is not defined",
     "output_type": "error",
     "traceback": [
      "\u001b[0;31m---------------------------------------------------------------------------\u001b[0m",
      "\u001b[0;31mNameError\u001b[0m                                 Traceback (most recent call last)",
      "\u001b[0;32m<ipython-input-8-a849ba2df8d9>\u001b[0m in \u001b[0;36m<module>\u001b[0;34m()\u001b[0m\n\u001b[0;32m----> 1\u001b[0;31m \u001b[0mprob\u001b[0m \u001b[0;34m=\u001b[0m \u001b[0mmodel\u001b[0m\u001b[0;34m.\u001b[0m\u001b[0mpredict\u001b[0m\u001b[0;34m(\u001b[0m\u001b[0mxg_train\u001b[0m\u001b[0;34m,\u001b[0m \u001b[0moutput_margin\u001b[0m\u001b[0;34m=\u001b[0m\u001b[0mTrue\u001b[0m\u001b[0;34m)\u001b[0m\u001b[0;34m\u001b[0m\u001b[0m\n\u001b[0m\u001b[1;32m      2\u001b[0m \u001b[0msec_train\u001b[0m \u001b[0;34m=\u001b[0m \u001b[0mnp\u001b[0m\u001b[0;34m.\u001b[0m\u001b[0mzeros\u001b[0m\u001b[0;34m(\u001b[0m\u001b[0;34m(\u001b[0m\u001b[0mY_train\u001b[0m\u001b[0;34m.\u001b[0m\u001b[0mshape\u001b[0m\u001b[0;34m[\u001b[0m\u001b[0;36m0\u001b[0m\u001b[0;34m]\u001b[0m\u001b[0;34m,\u001b[0m\u001b[0;36m6\u001b[0m\u001b[0;34m)\u001b[0m\u001b[0;34m)\u001b[0m\u001b[0;34m\u001b[0m\u001b[0m\n\u001b[1;32m      3\u001b[0m \u001b[0msec_train\u001b[0m\u001b[0;34m[\u001b[0m\u001b[0;34m:\u001b[0m\u001b[0;34m,\u001b[0m\u001b[0;34m:\u001b[0m\u001b[0;36m5\u001b[0m\u001b[0;34m]\u001b[0m \u001b[0;34m=\u001b[0m \u001b[0mprob\u001b[0m\u001b[0;34m\u001b[0m\u001b[0m\n\u001b[1;32m      4\u001b[0m \u001b[0msec_train\u001b[0m\u001b[0;34m[\u001b[0m\u001b[0;36m0\u001b[0m\u001b[0;34m,\u001b[0m \u001b[0;36m5\u001b[0m\u001b[0;34m]\u001b[0m \u001b[0;34m=\u001b[0m \u001b[0;36m0\u001b[0m\u001b[0;34m\u001b[0m\u001b[0m\n\u001b[1;32m      5\u001b[0m \u001b[0msec_train\u001b[0m\u001b[0;34m[\u001b[0m\u001b[0;36m1\u001b[0m\u001b[0;34m:\u001b[0m\u001b[0;34m,\u001b[0m\u001b[0;36m5\u001b[0m\u001b[0;34m:\u001b[0m\u001b[0;34m]\u001b[0m \u001b[0;34m=\u001b[0m \u001b[0mY_train\u001b[0m\u001b[0;34m[\u001b[0m\u001b[0;34m:\u001b[0m\u001b[0;34m-\u001b[0m\u001b[0;36m1\u001b[0m\u001b[0;34m]\u001b[0m\u001b[0;34m.\u001b[0m\u001b[0mreshape\u001b[0m\u001b[0;34m(\u001b[0m\u001b[0;34m-\u001b[0m\u001b[0;36m1\u001b[0m\u001b[0;34m,\u001b[0m\u001b[0;36m1\u001b[0m\u001b[0;34m)\u001b[0m\u001b[0;34m\u001b[0m\u001b[0m\n",
      "\u001b[0;31mNameError\u001b[0m: name 'model' is not defined"
     ]
    }
   ],
   "source": [
    "prob = model.predict(xg_train, output_margin=True)\n",
    "sec_train = np.zeros((Y_train.shape[0],6))\n",
    "sec_train[:,:5] = prob\n",
    "sec_train[0, 5] = 0\n",
    "sec_train[1:,5:] = Y_train[:-1].reshape(-1,1)\n",
    "sec_train = sec_train.reshape(-1,6)\n",
    "sec_train = (sec_train - sec_train.mean()) / sec_train.var()"
   ]
  },
  {
   "cell_type": "code",
   "execution_count": 35,
   "metadata": {
    "collapsed": false
   },
   "outputs": [],
   "source": [
    "prob = model.predict(xg_eval, output_margin=True)\n",
    "sec_eval = np.zeros((Y_eval.shape[0],6))\n",
    "sec_eval[:,:5] = prob\n",
    "sec_eval[0, 5] = 0\n",
    "sec_eval[1:,5:] = Y_eval.reshape(-1,1)[:-1]\n",
    "sec_eval = sec_eval.reshape(-1,6)\n",
    "sec_eval = (sec_eval - sec_eval.mean()) / sec_eval.var()"
   ]
  },
  {
   "cell_type": "code",
   "execution_count": 36,
   "metadata": {
    "collapsed": false
   },
   "outputs": [],
   "source": [
    "prob = model.predict(xg_test, output_margin=True)\n",
    "sec_test = np.zeros((label_test.shape[0],6))\n",
    "sec_test[:,:5] = prob\n",
    "sec_test[0, 5] = 0\n",
    "sec_test[1:,5:] = pred.reshape(-1,1)[:-1]\n",
    "sec_test = sec_test.reshape(-1,6)\n",
    "sec_test = (sec_test - sec_test.mean()) / sec_test.var()"
   ]
  },
  {
   "cell_type": "code",
   "execution_count": 18,
   "metadata": {
    "collapsed": false
   },
   "outputs": [
    {
     "data": {
      "text/plain": [
       "array([0, 0, 0, ..., 0, 0, 0])"
      ]
     },
     "execution_count": 18,
     "metadata": {},
     "output_type": "execute_result"
    }
   ],
   "source": [
    "pred"
   ]
  },
  {
   "cell_type": "code",
   "execution_count": 12,
   "metadata": {
    "collapsed": false
   },
   "outputs": [
    {
     "data": {
      "text/plain": [
       "array([0, 0, 0, ..., 0, 0, 0])"
      ]
     },
     "execution_count": 12,
     "metadata": {},
     "output_type": "execute_result"
    }
   ],
   "source": [
    "pred"
   ]
  },
  {
   "cell_type": "code",
   "execution_count": 37,
   "metadata": {
    "collapsed": false
   },
   "outputs": [
    {
     "name": "stdout",
     "output_type": "stream",
     "text": [
      "(17456, 6) (6040, 6) (1940, 6)\n",
      "[-0.73462063  0.76162343 -0.24528588 -0.82430456  0.8256879  -0.28139034] [ 1.30500447 -0.12559804 -0.35945365 -0.50182343 -0.64764584 -0.31241185] [-0.28750188  0.93008021 -0.57893491 -0.82508172 -0.33887822 -0.28057286]\n"
     ]
    }
   ],
   "source": [
    "print sec_train.shape, sec_test.shape, sec_eval.shape\n",
    "print sec_train[0], sec_test[0], sec_eval[0]"
   ]
  },
  {
   "cell_type": "code",
   "execution_count": 22,
   "metadata": {
    "collapsed": true
   },
   "outputs": [],
   "source": [
    "sec_train = xgb.DMatrix(sec_train, label = Y_train)\n",
    "sec_eval = xgb.DMatrix(sec_eval, label = Y_eval)\n",
    "sec_test = xgb.DMatrix(sec_test, label = label_test)"
   ]
  },
  {
   "cell_type": "code",
   "execution_count": 45,
   "metadata": {
    "collapsed": false
   },
   "outputs": [
    {
     "name": "stdout",
     "output_type": "stream",
     "text": [
      "0.824226804124\n",
      "0.716390728477\n"
     ]
    }
   ],
   "source": [
    "from sklearn.svm import SVC\n",
    "\n",
    "sec_model = SVC(C = 2, kernel = 'linear')\n",
    "\n",
    "sec_model.fit(sec_train.tolist(), Y_train.tolist())\n",
    "\n",
    "pred = sec_model.predict(sec_eval)\n",
    "\n",
    "#   del model\n",
    "acc = pred == Y_eval.tolist()\n",
    "acc = acc.sum()*1.0 / acc.shape[0]\n",
    "print acc\n",
    "\n",
    "\n",
    "pred = sec_model.predict(sec_test)\n",
    "\n",
    "#   del model\n",
    "acc = pred == label_test\n",
    "acc = acc.sum()*1.0 / acc.shape[0]\n",
    "print acc\n"
   ]
  },
  {
   "cell_type": "code",
   "execution_count": null,
   "metadata": {
    "collapsed": true
   },
   "outputs": [],
   "source": []
  },
  {
   "cell_type": "code",
   "execution_count": 9,
   "metadata": {
    "collapsed": false
   },
   "outputs": [
    {
     "name": "stdout",
     "output_type": "stream",
     "text": [
      "0.817069862808\n"
     ]
    }
   ],
   "source": [
    "print acc_final / 10"
   ]
  },
  {
   "cell_type": "code",
   "execution_count": null,
   "metadata": {
    "collapsed": false
   },
   "outputs": [],
   "source": [
    "train[1:,-1] == label_train[:-1]"
   ]
  },
  {
   "cell_type": "code",
   "execution_count": 16,
   "metadata": {
    "collapsed": false
   },
   "outputs": [
    {
     "name": "stdout",
     "output_type": "stream",
     "text": [
      "0.799140003031\n"
     ]
    }
   ],
   "source": [
    "print acc_final / 5"
   ]
  },
  {
   "cell_type": "code",
   "execution_count": 15,
   "metadata": {
    "collapsed": true
   },
   "outputs": [],
   "source": [
    "from sklearn.metrics import confusion_matrix\n",
    "pred = pred.tolist()\n",
    "label_test = label_test.tolist()\n",
    "a = confusion_matrix(pred, label_test)"
   ]
  },
  {
   "cell_type": "code",
   "execution_count": 16,
   "metadata": {
    "collapsed": false
   },
   "outputs": [
    {
     "data": {
      "text/plain": [
       "array([[ 67,   1,   0,   1,   2],\n",
       "       [ 20,  28,  17,   0,  36],\n",
       "       [  0,   6, 299, 136,   8],\n",
       "       [  0,   0,   1, 218,   0],\n",
       "       [ 13,  11,   9,   0, 143]])"
      ]
     },
     "execution_count": 16,
     "metadata": {},
     "output_type": "execute_result"
    }
   ],
   "source": [
    "a"
   ]
  },
  {
   "cell_type": "code",
   "execution_count": 23,
   "metadata": {
    "collapsed": false
   },
   "outputs": [
    {
     "data": {
      "text/plain": [
       "array([[ 67,   1,   0,   1,   5],\n",
       "       [ 12,  23,  21,   0,  14],\n",
       "       [  0,   3, 293, 136,   2],\n",
       "       [  0,   0,   1, 218,   0],\n",
       "       [ 21,  19,  11,   0, 168]])"
      ]
     },
     "execution_count": 23,
     "metadata": {},
     "output_type": "execute_result"
    }
   ],
   "source": [
    "a"
   ]
  },
  {
   "cell_type": "code",
   "execution_count": 15,
   "metadata": {
    "collapsed": false
   },
   "outputs": [
    {
     "data": {
      "text/plain": [
       "[2.0, 2.0, 3.0, 3.0, 3.0, 3.0, 2.0]"
      ]
     },
     "execution_count": 15,
     "metadata": {},
     "output_type": "execute_result"
    }
   ],
   "source": [
    "pred"
   ]
  },
  {
   "cell_type": "code",
   "execution_count": 19,
   "metadata": {
    "collapsed": false
   },
   "outputs": [
    {
     "data": {
      "text/plain": [
       "(7, 2829)"
      ]
     },
     "execution_count": 19,
     "metadata": {},
     "output_type": "execute_result"
    }
   ],
   "source": [
    "testArr.shape"
   ]
  },
  {
   "cell_type": "code",
   "execution_count": null,
   "metadata": {
    "collapsed": true
   },
   "outputs": [],
   "source": [
    "10folds:\n",
    "0.793273037567, data13, weighted by ratio\n",
    "    param = {\n",
    "        'eta' : 0.008,\n",
    "        'max_depth' : 6,\n",
    "        'min_child_weight' : 1,\n",
    "        'gamma' : 2,\n",
    "        'subsample' : 0.7,\n",
    "        'lambda' : 0.3,\n",
    "        'colsample_bytree' : 0.8,\n",
    "        'objective' : 'multi:softmax',\n",
    "        'num_class' : 5,\n",
    "#         'nthread' : -1,\n",
    "        'silent' : False,\n",
    "        'seed' : 1\n",
    "    }"
   ]
  },
  {
   "cell_type": "code",
   "execution_count": null,
   "metadata": {
    "collapsed": true
   },
   "outputs": [],
   "source": [
    "0.783428619109, data13\n",
    "    param = {\n",
    "        'eta' : 0.01,\n",
    "        'max_depth' : 6,\n",
    "        'min_child_weight' : 1,\n",
    "        'gamma' : 2,\n",
    "        'subsample' : 0.7,\n",
    "        'lambda' : 0.3,\n",
    "        'colsample_bytree' : 0.8,\n",
    "        'objective' : 'multi:softmax',\n",
    "        'num_class' : 5,\n",
    "#         'nthread' : -1,\n",
    "        'silent' : False,\n",
    "        'seed' : 1\n",
    "    }"
   ]
  }
 ],
 "metadata": {
  "kernelspec": {
   "display_name": "Python 2",
   "language": "python",
   "name": "python2"
  },
  "language_info": {
   "codemirror_mode": {
    "name": "ipython",
    "version": 2
   },
   "file_extension": ".py",
   "mimetype": "text/x-python",
   "name": "python",
   "nbconvert_exporter": "python",
   "pygments_lexer": "ipython2",
   "version": "2.7.13"
  }
 },
 "nbformat": 4,
 "nbformat_minor": 2
}
