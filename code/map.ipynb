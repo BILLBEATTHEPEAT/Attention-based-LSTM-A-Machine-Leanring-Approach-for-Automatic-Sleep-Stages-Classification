{
 "cells": [
  {
   "cell_type": "code",
   "execution_count": 1,
   "metadata": {
    "ExecuteTime": {
     "end_time": "2018-01-31T11:05:52.389328Z",
     "start_time": "2018-01-31T11:05:46.252489Z"
    },
    "collapsed": false
   },
   "outputs": [
    {
     "name": "stderr",
     "output_type": "stream",
     "text": [
      "Using TensorFlow backend.\n"
     ]
    }
   ],
   "source": [
    "import argparse\n",
    "import os\n",
    "\n",
    "import numpy as np\n",
    "import pandas as pd\n",
    "import matplotlib.pyplot as plt\n",
    "\n",
    "from models.custom_recurrents import AttentionDecoder"
   ]
  },
  {
   "cell_type": "code",
   "execution_count": 2,
   "metadata": {
    "ExecuteTime": {
     "end_time": "2018-01-31T11:05:52.680023Z",
     "start_time": "2018-01-31T11:05:52.392779Z"
    },
    "collapsed": false
   },
   "outputs": [],
   "source": [
    "from keras.layers.core import Dense, Dropout\n",
    "from keras.layers.recurrent import GRU\n",
    "from keras.optimizers import Adam\n",
    "\n",
    "from keras.utils.np_utils import to_categorical\n",
    "from sklearn.preprocessing import MinMaxScaler\n",
    "\n",
    "from keras.models import Model\n",
    "\n",
    "from keras.layers.normalization import BatchNormalization\n",
    "from keras.layers.wrappers import TimeDistributed, Bidirectional\n",
    "from keras.layers import Input"
   ]
  },
  {
   "cell_type": "code",
   "execution_count": 3,
   "metadata": {
    "ExecuteTime": {
     "end_time": "2018-01-24T15:13:38.719043Z",
     "start_time": "2018-01-24T15:13:38.709005Z"
    },
    "collapsed": false
   },
   "outputs": [
    {
     "name": "stdout",
     "output_type": "stream",
     "text": [
      "/mnt/nas/eeg/processed_data_RNN/\n"
     ]
    },
    {
     "data": {
      "text/plain": [
       "29"
      ]
     },
     "execution_count": 3,
     "metadata": {},
     "output_type": "execute_result"
    }
   ],
   "source": [
    "filepath=unicode('/mnt/nas/eeg/processed_data_RNN/','utf8')\n",
    "print filepath\n",
    "fileName = sorted(os.listdir(filepath))\n",
    "len(fileName)"
   ]
  },
  {
   "cell_type": "code",
   "execution_count": 4,
   "metadata": {
    "ExecuteTime": {
     "end_time": "2018-01-24T15:13:39.739401Z",
     "start_time": "2018-01-24T15:13:39.418193Z"
    },
    "collapsed": false
   },
   "outputs": [],
   "source": [
    "data = pd.read_pickle(filepath+fileName[0])"
   ]
  },
  {
   "cell_type": "code",
   "execution_count": 5,
   "metadata": {
    "ExecuteTime": {
     "end_time": "2018-01-24T15:13:39.911125Z",
     "start_time": "2018-01-24T15:13:39.866094Z"
    },
    "collapsed": false
   },
   "outputs": [],
   "source": [
    "W = data.iloc[0]"
   ]
  },
  {
   "cell_type": "code",
   "execution_count": 6,
   "metadata": {
    "ExecuteTime": {
     "end_time": "2018-01-24T15:13:40.900638Z",
     "start_time": "2018-01-24T15:13:40.888182Z"
    },
    "collapsed": false
   },
   "outputs": [
    {
     "data": {
      "text/plain": [
       "Index([u'E1-M2_delta_Energy_phase_0', u'E1-M2_theta_Energy_phase_0',\n",
       "       u'E1-M2_alpha_Energy_phase_0', u'E1-M2_beta_Energy_phase_0',\n",
       "       u'E1-M2_gamma_Energy_phase_0', u'E1-M2_low_alpha_Energy_phase_0',\n",
       "       u'E1-M2_high_alpha_Energy_phase_0', u'E1-M2_Energy_phase_0',\n",
       "       u'E1-M2Energyratio1_phase_0', u'E1-M2Energyratio2_phase_0',\n",
       "       ...\n",
       "       u'Snore_amin_phase_29', u'Snore_amean_phase_29', u'Snore_astd_phase_29',\n",
       "       u'Snore_aEnergy_phase_29', u'Snore_bmax_phase_29',\n",
       "       u'Snore_bmin_phase_29', u'Snore_bmean_phase_29', u'Snore_bstd_phase_29',\n",
       "       u'Snore_bEnergy_phase_29', u'label'],\n",
       "      dtype='object', length=23101)"
      ]
     },
     "execution_count": 6,
     "metadata": {},
     "output_type": "execute_result"
    }
   ],
   "source": [
    "W.index"
   ]
  },
  {
   "cell_type": "code",
   "execution_count": 7,
   "metadata": {
    "ExecuteTime": {
     "end_time": "2018-01-24T15:13:41.717792Z",
     "start_time": "2018-01-24T15:13:41.709185Z"
    },
    "collapsed": false
   },
   "outputs": [
    {
     "data": {
      "text/plain": [
       "Index([u'E1-M2_delta_Energy_phase_0', u'E1-M2_theta_Energy_phase_0',\n",
       "       u'E1-M2_alpha_Energy_phase_0', u'E1-M2_beta_Energy_phase_0',\n",
       "       u'E1-M2_gamma_Energy_phase_0', u'E1-M2_low_alpha_Energy_phase_0',\n",
       "       u'E1-M2_high_alpha_Energy_phase_0', u'E1-M2_Energy_phase_0',\n",
       "       u'E1-M2Energyratio1_phase_0', u'E1-M2Energyratio2_phase_0',\n",
       "       ...\n",
       "       u'Snore_amin_phase_29', u'Snore_amean_phase_29', u'Snore_astd_phase_29',\n",
       "       u'Snore_aEnergy_phase_29', u'Snore_bmax_phase_29',\n",
       "       u'Snore_bmin_phase_29', u'Snore_bmean_phase_29', u'Snore_bstd_phase_29',\n",
       "       u'Snore_bEnergy_phase_29', u'label'],\n",
       "      dtype='object', length=23101)"
      ]
     },
     "execution_count": 7,
     "metadata": {},
     "output_type": "execute_result"
    }
   ],
   "source": [
    "data.columns"
   ]
  },
  {
   "cell_type": "code",
   "execution_count": 43,
   "metadata": {
    "ExecuteTime": {
     "end_time": "2018-01-24T15:43:18.149824Z",
     "start_time": "2018-01-24T15:43:18.143547Z"
    },
    "collapsed": false
   },
   "outputs": [
    {
     "name": "stdout",
     "output_type": "stream",
     "text": [
      "check_point/\n"
     ]
    }
   ],
   "source": [
    "filepath = unicode ('check_point/', 'utf8')\n",
    "print filepath"
   ]
  },
  {
   "cell_type": "code",
   "execution_count": 44,
   "metadata": {
    "ExecuteTime": {
     "end_time": "2018-01-24T15:44:32.584820Z",
     "start_time": "2018-01-24T15:44:32.580456Z"
    },
    "collapsed": true
   },
   "outputs": [],
   "source": [
    "weights_file = filepath + 'weights.49_0.8434.hdf5'"
   ]
  },
  {
   "cell_type": "code",
   "execution_count": 9,
   "metadata": {
    "ExecuteTime": {
     "end_time": "2018-01-24T15:13:43.213368Z",
     "start_time": "2018-01-24T15:13:43.205202Z"
    },
    "collapsed": false
   },
   "outputs": [
    {
     "data": {
      "text/plain": [
       "[u'.ipynb_checkpoints',\n",
       " u'weights.00_0.3968.hdf5',\n",
       " u'weights.01_0.5214.hdf5',\n",
       " u'weights.02_0.6046.hdf5',\n",
       " u'weights.03_0.6637.hdf5',\n",
       " u'weights.04_0.6913.hdf5',\n",
       " u'weights.06_0.7213.hdf5',\n",
       " u'weights.07_0.7322.hdf5',\n",
       " u'weights.08_0.7484.hdf5',\n",
       " u'weights.09_0.7553.hdf5',\n",
       " u'weights.10_0.7765.hdf5',\n",
       " u'weights.11_0.7873.hdf5',\n",
       " u'weights.14_0.7922.hdf5',\n",
       " u'weights.16_0.7986.hdf5',\n",
       " u'weights.17_0.8075.hdf5',\n",
       " u'weights.19_0.8134.hdf5',\n",
       " u'weights.24_0.8163.hdf5',\n",
       " u'weights.28_0.8213.hdf5',\n",
       " u'weights.29_0.8227.hdf5',\n",
       " u'weights.31_0.8262.hdf5',\n",
       " u'weights.35_0.8291.hdf5',\n",
       " u'weights.37_0.8336.hdf5',\n",
       " u'weights.49_0.8434.hdf5']"
      ]
     },
     "execution_count": 9,
     "metadata": {},
     "output_type": "execute_result"
    }
   ],
   "source": [
    "sorted(os.listdir(filepath))"
   ]
  },
  {
   "cell_type": "code",
   "execution_count": 10,
   "metadata": {
    "ExecuteTime": {
     "end_time": "2018-01-24T15:13:44.675712Z",
     "start_time": "2018-01-24T15:13:44.596333Z"
    },
    "collapsed": true
   },
   "outputs": [],
   "source": [
    "import json\n",
    "import csv\n",
    "import random\n",
    "\n",
    "import numpy as np\n",
    "from keras.utils.np_utils import to_categorical\n",
    "\n",
    "random.seed(1984)\n",
    "\n",
    "INPUT_PADDING = 50\n",
    "OUTPUT_PADDING = 100\n",
    "\n",
    "\n",
    "class Vocabulary(object):\n",
    "\n",
    "    def __init__(self, vocabulary_file, padding=None):\n",
    "        \"\"\"\n",
    "            Creates a vocabulary from a file\n",
    "            :param vocabulary_file: the path to the vocabulary\n",
    "        \"\"\"\n",
    "        self.vocabulary_file = vocabulary_file\n",
    "        with open(vocabulary_file, 'r') as f:\n",
    "            self.vocabulary = json.load(f)\n",
    "\n",
    "        self.padding = padding\n",
    "        self.reverse_vocabulary = {v: k for k, v in self.vocabulary.items()}\n",
    "\n",
    "    def size(self):\n",
    "        \"\"\"\n",
    "            Gets the size of the vocabulary\n",
    "        \"\"\"\n",
    "        return len(self.vocabulary.keys())\n",
    "\n",
    "    def string_to_int(self, text):\n",
    "        \"\"\"\n",
    "            Converts a string into it's character integer \n",
    "            representation\n",
    "            :param text: text to convert\n",
    "        \"\"\"\n",
    "        characters = list(text)\n",
    "\n",
    "        integers = []\n",
    "\n",
    "        if self.padding and len(characters) >= self.padding:\n",
    "            # truncate if too long\n",
    "            characters = characters[:self.padding - 1]\n",
    "\n",
    "        characters.append('<eot>')\n",
    "\n",
    "        for c in characters:\n",
    "            if c in self.vocabulary:\n",
    "                integers.append(self.vocabulary[c])\n",
    "            else:\n",
    "                integers.append(self.vocabulary['<unk>'])\n",
    "\n",
    "\n",
    "        # pad:\n",
    "        if self.padding and len(integers) < self.padding:\n",
    "            integers.extend([self.vocabulary['<unk>']]\n",
    "                            * (self.padding - len(integers)))\n",
    "\n",
    "        if len(integers) != self.padding:\n",
    "            print(text)\n",
    "            raise AttributeError('Length of text was not padding.')\n",
    "        return integers\n",
    "\n",
    "    def int_to_string(self, integers):\n",
    "        \"\"\"\n",
    "            Decodes a list of integers\n",
    "            into it's string representation\n",
    "        \"\"\"\n",
    "        characters = []\n",
    "        for i in integers:\n",
    "            characters.append(self.reverse_vocabulary[i])\n",
    "\n",
    "        return characters\n"
   ]
  },
  {
   "cell_type": "code",
   "execution_count": 11,
   "metadata": {
    "ExecuteTime": {
     "end_time": "2018-01-24T15:13:48.549276Z",
     "start_time": "2018-01-24T15:13:48.539693Z"
    },
    "collapsed": false
   },
   "outputs": [],
   "source": [
    "from visualize import Visualizer"
   ]
  },
  {
   "cell_type": "code",
   "execution_count": 41,
   "metadata": {
    "ExecuteTime": {
     "end_time": "2018-01-24T15:41:20.907365Z",
     "start_time": "2018-01-24T15:41:20.880722Z"
    },
    "collapsed": true
   },
   "outputs": [],
   "source": [
    "def create_model():\n",
    "    i = Input(shape=(30*3, 770), dtype='float32')\n",
    "    g0 = GRU(256, return_sequences=True, activation='tanh')(i)\n",
    "    # g1 = GRU(128, return_sequences=True, activation='tanh')(g0)\n",
    "    # g2 = GRU(64, return_sequences=True, activation='tanh')(g1)\n",
    "    enc = Bidirectional(GRU(128, return_sequences=True, activation='tanh'), merge_mode='concat')(g0)\n",
    "    dec = AttentionDecoder(units=64,output_dim=32)(enc)\n",
    "    # b0 = BatchNormalization()(dec)\n",
    "    # d0 = Dropout(0.5)(b0)\n",
    "    # g3 = GRU(64, return_sequences=True, activation='tanh', kernel_initializer='glorot_uniform')(dec)\n",
    "    g4 = GRU(32, return_sequences=False, activation='tanh', kernel_initializer='glorot_uniform')(dec)\n",
    "    b1 = BatchNormalization()(g4)\n",
    "    d1 = Dropout(0.5)(b1)\n",
    "    o = Dense(5, activation='softmax')(d1)\n",
    "    model = Model(inputs=i,outputs=o)\n",
    "    \n",
    "    adam = Adam(lr=0.00005, clipnorm=5)\n",
    "    model.compile(loss='categorical_crossentropy', optimizer=adam, metrics=['accuracy'])\n",
    "    \n",
    "    print model.summary()\n",
    "    return model"
   ]
  },
  {
   "cell_type": "code",
   "execution_count": 32,
   "metadata": {
    "ExecuteTime": {
     "end_time": "2018-01-24T15:27:38.751593Z",
     "start_time": "2018-01-24T15:27:38.742904Z"
    },
    "collapsed": true
   },
   "outputs": [],
   "source": [
    "previous_column = np.array(W.index[:-1])\n",
    "current_column = np.array(W.index[:-1])\n",
    "later_column = np.array(W.index[:-1])"
   ]
  },
  {
   "cell_type": "code",
   "execution_count": 33,
   "metadata": {
    "ExecuteTime": {
     "end_time": "2018-01-24T15:27:39.163607Z",
     "start_time": "2018-01-24T15:27:39.108161Z"
    },
    "collapsed": false
   },
   "outputs": [],
   "source": [
    "for i in range(len(previous_column)):\n",
    "    previous_column[i] = 'previous_' + previous_column[i]\n",
    "    current_column[i] = 'current_' + current_column[i]\n",
    "    later_column[i] = 'later_' + later_column[i]"
   ]
  },
  {
   "cell_type": "code",
   "execution_count": 35,
   "metadata": {
    "ExecuteTime": {
     "end_time": "2018-01-24T15:28:04.051272Z",
     "start_time": "2018-01-24T15:28:04.046556Z"
    },
    "collapsed": false
   },
   "outputs": [],
   "source": [
    "in_v = str(previous_column)"
   ]
  },
  {
   "cell_type": "code",
   "execution_count": 36,
   "metadata": {
    "ExecuteTime": {
     "end_time": "2018-01-24T15:28:04.538907Z",
     "start_time": "2018-01-24T15:28:04.532824Z"
    },
    "collapsed": false
   },
   "outputs": [
    {
     "data": {
      "text/plain": [
       "\"['previous_E1-M2_delta_Energy_phase_0'\\n 'previous_E1-M2_theta_Energy_phase_0'\\n 'previous_E1-M2_alpha_Energy_phase_0' ..., 'previous_Snore_bmean_phase_29'\\n 'previous_Snore_bstd_phase_29' 'previous_Snore_bEnergy_phase_29']\""
      ]
     },
     "execution_count": 36,
     "metadata": {},
     "output_type": "execute_result"
    }
   ],
   "source": [
    "in_v"
   ]
  },
  {
   "cell_type": "code",
   "execution_count": 49,
   "metadata": {
    "ExecuteTime": {
     "end_time": "2018-01-24T15:52:02.064944Z",
     "start_time": "2018-01-24T15:52:02.010850Z"
    },
    "collapsed": true
   },
   "outputs": [],
   "source": [
    "def mix(data):\n",
    "    data.label = data.label.replace(np.nan, '?')\n",
    "    train = data[data.label != '?']\n",
    "    # train = train[data.label != '0']\n",
    "    # train = train[data.label != '-1']\n",
    "    # train = train[data.label != '-2']\n",
    "    # train = train[data.label != '-3']\n",
    "    train = train.replace([np.inf, -np.inf], np.nan)\n",
    "    train = train.fillna(value = 0)\n",
    "    train = np.array(train)\n",
    "    train = train.reshape(-1, 23101)\n",
    "    # train = train.reshape(-1, 3301)\n",
    "    temp = train[::, :-1]\n",
    "    temp_l = train[::,:-1]\n",
    "    temp_r = train[::,:-1]\n",
    "    temp_l[:-1,::] = temp[1:,::]\n",
    "    temp_r[1:,::] = temp[:-1,::]\n",
    "    temp = np.append(temp_l, temp, axis=1)\n",
    "    temp = np.append(temp, temp_r, axis=1)\n",
    "    label = train[1:-1,-1]\n",
    "    temp = temp[1:-1,::]\n",
    "    # train = train[::,:-1].reshape(-1,30,770)\n",
    "    # temp = temp.reshape(-1,30,770)\n",
    "    # temp = np.concatenate([temp,temp], axis=2)\n",
    "    # temp = np.concatenate([temp,train], axis=2)\n",
    "    # temp[:-1,::,:770] = train[:-1,::,::] - train[1:,::,::]\n",
    "    # temp[1:,::,770:1540] = train[:-1,::,::] - train[1:,::,::]\n",
    "    return temp, label"
   ]
  },
  {
   "cell_type": "code",
   "execution_count": 50,
   "metadata": {
    "ExecuteTime": {
     "end_time": "2018-01-24T15:52:10.268956Z",
     "start_time": "2018-01-24T15:52:06.619306Z"
    },
    "collapsed": true
   },
   "outputs": [],
   "source": [
    "d, label = mix(data)"
   ]
  },
  {
   "cell_type": "code",
   "execution_count": 54,
   "metadata": {
    "ExecuteTime": {
     "end_time": "2018-01-24T15:53:48.594632Z",
     "start_time": "2018-01-24T15:53:48.437621Z"
    },
    "collapsed": false,
    "scrolled": true
   },
   "outputs": [],
   "source": [
    "activation_map = np.squeeze(proba_model.predict(np.array(d[0]).reshape(1,90,770)))"
   ]
  },
  {
   "cell_type": "code",
   "execution_count": 55,
   "metadata": {
    "ExecuteTime": {
     "end_time": "2018-01-24T15:53:52.006110Z",
     "start_time": "2018-01-24T15:53:51.994359Z"
    },
    "collapsed": false
   },
   "outputs": [
    {
     "data": {
      "text/plain": [
       "array([ 0.20470276,  0.20054503,  0.1991874 ,  0.19934139,  0.19622341], dtype=float32)"
      ]
     },
     "execution_count": 55,
     "metadata": {},
     "output_type": "execute_result"
    }
   ],
   "source": [
    "activation_map"
   ]
  },
  {
   "cell_type": "code",
   "execution_count": null,
   "metadata": {
    "collapsed": true
   },
   "outputs": [],
   "source": [
    "plt.clf()"
   ]
  },
  {
   "cell_type": "code",
   "execution_count": null,
   "metadata": {
    "collapsed": true
   },
   "outputs": [],
   "source": []
  },
  {
   "cell_type": "code",
   "execution_count": null,
   "metadata": {
    "collapsed": true
   },
   "outputs": [],
   "source": []
  },
  {
   "cell_type": "code",
   "execution_count": null,
   "metadata": {
    "collapsed": true
   },
   "outputs": [],
   "source": []
  },
  {
   "cell_type": "code",
   "execution_count": null,
   "metadata": {
    "collapsed": true
   },
   "outputs": [],
   "source": []
  },
  {
   "cell_type": "code",
   "execution_count": null,
   "metadata": {
    "collapsed": true
   },
   "outputs": [],
   "source": []
  },
  {
   "cell_type": "code",
   "execution_count": 3,
   "metadata": {
    "ExecuteTime": {
     "end_time": "2018-01-31T11:05:54.484654Z",
     "start_time": "2018-01-31T11:05:54.470375Z"
    },
    "collapsed": true
   },
   "outputs": [],
   "source": [
    "from sklearn.metrics import confusion_matrix\n",
    "import matplotlib.pyplot as plt\n",
    "import numpy as np "
   ]
  },
  {
   "cell_type": "code",
   "execution_count": 4,
   "metadata": {
    "ExecuteTime": {
     "end_time": "2018-01-31T11:05:55.376396Z",
     "start_time": "2018-01-31T11:05:55.357451Z"
    },
    "collapsed": true
   },
   "outputs": [],
   "source": [
    "def plot_confusion_matrix(cm, title='Confusion Matrix', cmap = plt.cm.Blues):\n",
    "    plt.imshow(cm, interpolation='nearest', cmap=cmap)\n",
    "    plt.title(title, fontsize=10)\n",
    "    plt.colorbar()\n",
    "    xlocations = np.array(range(len(labels)))\n",
    "    plt.xticks(xlocations, labels, rotation = 90)\n",
    "    plt.yticks(xlocations, labels)\n",
    "    plt.ylabel('True label')\n",
    "    plt.xlabel('Predict label')"
   ]
  },
  {
   "cell_type": "code",
   "execution_count": 203,
   "metadata": {
    "ExecuteTime": {
     "end_time": "2018-01-29T11:34:09.724301Z",
     "start_time": "2018-01-29T11:34:09.709027Z"
    },
    "collapsed": false
   },
   "outputs": [],
   "source": [
    "cm = np.array([[1061,72,5,1,16],\n",
    " [48,546,187,1,66],\n",
    " [5,102,1503,74,35],\n",
    " [0,0,82,623,0],\n",
    " [9,58,28,0,544]])"
   ]
  },
  {
   "cell_type": "code",
   "execution_count": 10,
   "metadata": {
    "ExecuteTime": {
     "end_time": "2018-01-31T11:06:19.808350Z",
     "start_time": "2018-01-31T11:06:19.797512Z"
    },
    "collapsed": true
   },
   "outputs": [],
   "source": [
    "cm = np.array([\n",
    "[1039,   89,    3,    2,   21],\n",
    " [  49,  550,  193,    1,   54],\n",
    " [   4,  128, 1474,   78,   36],\n",
    " [   0,    0,   96,  609,    0],\n",
    " [  11,   71,   37,    0,  520]\n",
    "\n",
    "])"
   ]
  },
  {
   "cell_type": "code",
   "execution_count": 11,
   "metadata": {
    "ExecuteTime": {
     "end_time": "2018-01-31T11:06:20.310779Z",
     "start_time": "2018-01-31T11:06:20.303808Z"
    },
    "collapsed": false
   },
   "outputs": [
    {
     "name": "stdout",
     "output_type": "stream",
     "text": [
      "[[1039   89    3    2   21]\n",
      " [  49  550  193    1   54]\n",
      " [   4  128 1474   78   36]\n",
      " [   0    0   96  609    0]\n",
      " [  11   71   37    0  520]]\n"
     ]
    }
   ],
   "source": [
    "print cm"
   ]
  },
  {
   "cell_type": "code",
   "execution_count": 12,
   "metadata": {
    "ExecuteTime": {
     "end_time": "2018-01-31T11:06:24.038464Z",
     "start_time": "2018-01-31T11:06:24.029381Z"
    },
    "collapsed": false
   },
   "outputs": [
    {
     "name": "stdout",
     "output_type": "stream",
     "text": [
      "[[ 0.9   0.08  0.    0.    0.02]\n",
      " [ 0.06  0.65  0.23  0.    0.06]\n",
      " [ 0.    0.07  0.86  0.05  0.02]\n",
      " [ 0.    0.    0.14  0.86  0.  ]\n",
      " [ 0.02  0.11  0.06  0.    0.81]]\n"
     ]
    }
   ],
   "source": [
    "np.set_printoptions(precision=2)\n",
    "cm_normalized = cm.astype('float')/cm.sum(axis=1)[:,np.newaxis]\n",
    "print cm_normalized"
   ]
  },
  {
   "cell_type": "code",
   "execution_count": 13,
   "metadata": {
    "ExecuteTime": {
     "end_time": "2018-01-31T11:06:25.083376Z",
     "start_time": "2018-01-31T11:06:25.076492Z"
    },
    "collapsed": true
   },
   "outputs": [],
   "source": [
    "plt.figure(figsize=(5,5), dpi=120)\n",
    "ind_array = np.arange(5)\n",
    "x, y = np.meshgrid(ind_array, ind_array)"
   ]
  },
  {
   "cell_type": "code",
   "execution_count": 14,
   "metadata": {
    "ExecuteTime": {
     "end_time": "2018-01-31T11:06:25.428797Z",
     "start_time": "2018-01-31T11:06:25.326121Z"
    },
    "collapsed": false
   },
   "outputs": [],
   "source": [
    "thresh = cm_normalized.max() / 2.\n",
    "for x_val, y_val in zip(x.flatten(), y.flatten()):\n",
    "    c = cm_normalized[y_val][x_val]\n",
    "    if (c > thresh):\n",
    "        plt.text(x_val, y_val, '%0.2f' %(c,), color='White', fontsize=10, va='center', ha='center')\n",
    "    else:\n",
    "        plt.text(x_val, y_val, '%0.2f' %(c,), color='Black', fontsize=10, va='center', ha='center')"
   ]
  },
  {
   "cell_type": "code",
   "execution_count": 15,
   "metadata": {
    "ExecuteTime": {
     "end_time": "2018-01-31T11:06:28.111474Z",
     "start_time": "2018-01-31T11:06:28.099779Z"
    },
    "collapsed": true
   },
   "outputs": [],
   "source": [
    "labels = ['W','N1','N2','N3','R']\n",
    "tick_marks = np.array(range(len(labels)))+0.5"
   ]
  },
  {
   "cell_type": "code",
   "execution_count": 16,
   "metadata": {
    "ExecuteTime": {
     "end_time": "2018-01-31T11:06:30.499987Z",
     "start_time": "2018-01-31T11:06:30.477574Z"
    },
    "collapsed": false
   },
   "outputs": [],
   "source": [
    "plt.gca().set_xticks(tick_marks, minor=True)\n",
    "plt.gca().set_yticks(tick_marks, minor=True)\n",
    "plt.gca().xaxis.set_ticks_position('none')\n",
    "plt.gca().yaxis.set_ticks_position('none')\n",
    "plt.grid(True, which='minor', linestyle='-')\n",
    "plt.gcf().subplots_adjust(bottom=0.15)"
   ]
  },
  {
   "cell_type": "code",
   "execution_count": 17,
   "metadata": {
    "ExecuteTime": {
     "end_time": "2018-01-31T11:06:40.024778Z",
     "start_time": "2018-01-31T11:06:39.881136Z"
    },
    "collapsed": true
   },
   "outputs": [],
   "source": [
    "plot_confusion_matrix(cm_normalized, title='Proposed Method (Unbalanced)')  "
   ]
  },
  {
   "cell_type": "code",
   "execution_count": 18,
   "metadata": {
    "ExecuteTime": {
     "end_time": "2018-01-31T11:06:40.876021Z",
     "start_time": "2018-01-31T11:06:40.493634Z"
    },
    "collapsed": false
   },
   "outputs": [
    {
     "data": {
      "text/plain": [
       "<matplotlib.figure.Figure at 0x7fa6e5922f10>"
      ]
     },
     "metadata": {},
     "output_type": "display_data"
    },
    {
     "data": {
      "image/png": "[encoded data removed]",
      "text/plain": [
       "<matplotlib.figure.Figure at 0x7fa6e58fc390>"
      ]
     },
     "metadata": {},
     "output_type": "display_data"
    }
   ],
   "source": [
    "plt.show()"
   ]
  },
  {
   "cell_type": "code",
   "execution_count": 28,
   "metadata": {
    "ExecuteTime": {
     "end_time": "2018-01-31T11:43:54.058336Z",
     "start_time": "2018-01-31T11:43:54.050512Z"
    },
    "collapsed": true
   },
   "outputs": [],
   "source": [
    "cm = np.array([\n",
    "    [0.9448, 0.7018, 0.8327, 0.8913, 0.8230],\n",
    "    [0.9186, 0.6439, 0.8743, 0.8837, 0.8513],\n",
    "    [0.9315, 0.6716, 0.8530, 0.8875, 0.8369],\n",
    "    [0.9974, 0.9906, 0.9872, 0.9969, 0.9953]\n",
    "])"
   ]
  },
  {
   "cell_type": "code",
   "execution_count": 37,
   "metadata": {
    "ExecuteTime": {
     "end_time": "2018-01-31T11:51:48.181030Z",
     "start_time": "2018-01-31T11:51:48.169237Z"
    },
    "collapsed": true
   },
   "outputs": [],
   "source": [
    "cm = np.array([\n",
    "    [0.9419, 0.6563, 0.8175, 0.8826, 0.8241],\n",
    "    [0.9003, 0.6494, 0.8570, 0.8638, 0.8138],\n",
    "    [0.9206, 0.6528, 0.8368, 0.8731, 0.8189],\n",
    "    [0.9974, 0.9685, 0.9861, 0.9967, 0.9955]\n",
    "])"
   ]
  },
  {
   "cell_type": "code",
   "execution_count": 38,
   "metadata": {
    "ExecuteTime": {
     "end_time": "2018-01-31T11:51:58.323719Z",
     "start_time": "2018-01-31T11:51:58.304707Z"
    },
    "collapsed": true
   },
   "outputs": [],
   "source": [
    "def plot_confusion_matrix(cm, title='Attention-based LSTM (Unbalanced)', cmap = plt.cm.Blues):\n",
    "    plt.imshow(cm, interpolation='nearest', cmap=cmap)\n",
    "    plt.title(title, fontsize=10)\n",
    "    plt.colorbar()\n",
    "    xlocations = np.array(range(len(labels)))\n",
    "    plt.xticks(xlocations, labels)\n",
    "    plt.yticks(xlocations, scores)\n",
    "#     plt.ylabel('True label')\n",
    "#     plt.xlabel('Predict label')"
   ]
  },
  {
   "cell_type": "code",
   "execution_count": 39,
   "metadata": {
    "ExecuteTime": {
     "end_time": "2018-01-31T11:51:59.724021Z",
     "start_time": "2018-01-31T11:51:59.719382Z"
    },
    "collapsed": true
   },
   "outputs": [],
   "source": [
    "cm_normalized = cm"
   ]
  },
  {
   "cell_type": "code",
   "execution_count": 40,
   "metadata": {
    "ExecuteTime": {
     "end_time": "2018-01-31T11:52:00.532036Z",
     "start_time": "2018-01-31T11:52:00.519597Z"
    },
    "collapsed": false
   },
   "outputs": [
    {
     "name": "stdout",
     "output_type": "stream",
     "text": [
      "[[0 1 2 3 4]\n",
      " [0 1 2 3 4]\n",
      " [0 1 2 3 4]\n",
      " [0 1 2 3 4]] [[0 0 0 0 0]\n",
      " [1 1 1 1 1]\n",
      " [2 2 2 2 2]\n",
      " [3 3 3 3 3]]\n"
     ]
    }
   ],
   "source": [
    "plt.figure(figsize=(4,5), dpi=120)\n",
    "ind_array1 = np.arange(4)\n",
    "ind_array2 = np.arange(5)\n",
    "x, y = np.meshgrid(ind_array2, ind_array1)\n",
    "print x, y"
   ]
  },
  {
   "cell_type": "code",
   "execution_count": 41,
   "metadata": {
    "ExecuteTime": {
     "end_time": "2018-01-31T11:52:01.385533Z",
     "start_time": "2018-01-31T11:52:01.279754Z"
    },
    "collapsed": false
   },
   "outputs": [
    {
     "name": "stdout",
     "output_type": "stream",
     "text": [
      "0.79792\n"
     ]
    }
   ],
   "source": [
    "thresh = cm_normalized.max() * 0.8\n",
    "print thresh\n",
    "for x_val, y_val in zip(x.flatten(), y.flatten()):\n",
    "    c = cm_normalized[y_val][x_val]\n",
    "    if (c > thresh):\n",
    "        plt.text(x_val, y_val, '%0.3f' %(c,), color='White', fontsize=10, va='center', ha='center')\n",
    "    else:\n",
    "        plt.text(x_val, y_val, '%0.3f' %(c,), color='Black', fontsize=10, va='center', ha='center')"
   ]
  },
  {
   "cell_type": "code",
   "execution_count": 42,
   "metadata": {
    "ExecuteTime": {
     "end_time": "2018-01-31T11:52:01.899997Z",
     "start_time": "2018-01-31T11:52:01.894278Z"
    },
    "collapsed": true
   },
   "outputs": [],
   "source": [
    "labels = ['W','N1','N2','N3','R']\n",
    "scores = ['Precision','Sensitivity','F1','Specificity']\n",
    "tick_marks = np.array(range(len(labels)))+0.5"
   ]
  },
  {
   "cell_type": "code",
   "execution_count": 43,
   "metadata": {
    "ExecuteTime": {
     "end_time": "2018-01-31T11:52:02.278625Z",
     "start_time": "2018-01-31T11:52:02.235219Z"
    },
    "collapsed": true
   },
   "outputs": [],
   "source": [
    "plt.gca().set_xticks(tick_marks, minor=True)\n",
    "plt.gca().set_yticks(tick_marks, minor=True)\n",
    "plt.gca().xaxis.set_ticks_position('none')\n",
    "plt.gca().yaxis.set_ticks_position('none')\n",
    "plt.grid(True, which='minor', linestyle='-')\n",
    "plt.gcf().subplots_adjust(bottom=0.15)"
   ]
  },
  {
   "cell_type": "code",
   "execution_count": 44,
   "metadata": {
    "ExecuteTime": {
     "end_time": "2018-01-31T11:52:02.787837Z",
     "start_time": "2018-01-31T11:52:02.655914Z"
    },
    "collapsed": true
   },
   "outputs": [],
   "source": [
    "plot_confusion_matrix(cm_normalized, title='Attention-based LSTM (Balanced)')  "
   ]
  },
  {
   "cell_type": "code",
   "execution_count": 45,
   "metadata": {
    "ExecuteTime": {
     "end_time": "2018-01-31T11:52:03.566932Z",
     "start_time": "2018-01-31T11:52:03.270989Z"
    },
    "collapsed": false
   },
   "outputs": [
    {
     "data": {
      "image/png": "[encoded data removed]",
      "text/plain": [
       "<matplotlib.figure.Figure at 0x7fa6e3101410>"
      ]
     },
     "metadata": {},
     "output_type": "display_data"
    }
   ],
   "source": [
    "plt.show()"
   ]
  },
  {
   "cell_type": "code",
   "execution_count": null,
   "metadata": {
    "collapsed": true
   },
   "outputs": [],
   "source": []
  }
 ],
 "metadata": {
  "kernelspec": {
   "display_name": "Python 2",
   "language": "python",
   "name": "python2"
  },
  "language_info": {
   "codemirror_mode": {
    "name": "ipython",
    "version": 2
   },
   "file_extension": ".py",
   "mimetype": "text/x-python",
   "name": "python",
   "nbconvert_exporter": "python",
   "pygments_lexer": "ipython2",
   "version": "2.7.13"
  }
 },
 "nbformat": 4,
 "nbformat_minor": 2
}
